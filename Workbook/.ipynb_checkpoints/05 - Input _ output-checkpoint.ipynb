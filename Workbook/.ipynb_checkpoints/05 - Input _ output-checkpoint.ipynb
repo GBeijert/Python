{
 "cells": [
  {
   "cell_type": "markdown",
   "id": "9553a68a",
   "metadata": {
    "id": "9553a68a"
   },
   "source": [
    "<center><img src='Assets\\chipsoft_logo.svg' width=\"200\"/></center>\n",
    "\n",
    "[<< Vorige](./04%20-%20Strings.ipynb) [Volgende >>](./06%20-%20Syntax.ipynb) \n",
    "\n",
    "# Input en Output\n",
    "\n",
    "We gebruiken al een hele tijd de functie print om gegevens naar de output te schrijven van het Python proces. Deze functie kan iets uitgebreidere scenario's aan dan we tot nu toe gezien hebben.\n",
    "Zo kan je er een seperator en een end character aan meegeven."
   ]
  },
  {
   "cell_type": "code",
   "execution_count": null,
   "id": "2e2c2b58",
   "metadata": {
    "id": "2e2c2b58",
    "outputId": "5c8f1489-0ccb-4e78-aeac-796aafdc86f8"
   },
   "outputs": [],
   "source": [
    "print('My sensors:')\n",
    "\n",
    "print('Infrared grayscale', 'Infrared receiver', 'Ultrasonic')\n",
    "\n",
    "#with comma in between\n",
    "print('Infrared grayscale', 'Infrared receiver', 'Ultrasonic', sep=',')\n",
    "\n",
    "#By default a newline is added, you can override this.\n",
    "print('Infrared grayscale', 'Infrared receiver', 'Ultrasonic', sep=',', end='')\n",
    "print('Infrared grayscale', 'Infrared receiver', 'Ultrasonic', sep=',')\n",
    "\n"
   ]
  },
  {
   "cell_type": "markdown",
   "id": "07a009c8",
   "metadata": {
    "id": "07a009c8"
   },
   "source": [
    "# input\n",
    "Soms wil je juist om input vragen van de gebruiker, dit kan je doen met behulp van de input functie. Op het moment dat de input functie gebruikt wordt, zal het programma pauzeren totdat de gebruiker zijn input heeft gegeven."
   ]
  },
  {
   "cell_type": "code",
   "execution_count": null,
   "id": "1cacc9d3",
   "metadata": {
    "id": "1cacc9d3",
    "outputId": "cc35b924-36a6-4f5d-8556-765d821b80f5"
   },
   "outputs": [],
   "source": [
    "name = input('What is your robot\\'s name?: ')\n",
    "\n",
    "print('Hello '+ name + '!')"
   ]
  },
  {
   "cell_type": "markdown",
   "id": "5a568fce",
   "metadata": {
    "id": "5a568fce"
   },
   "source": [
    "De waarde die teruggegeven wordt is altijd een string, ook al voert de gebruiker een getal in. Je zal de waarde dus moeten casten naar een integer als je het als een integer wil gebruiken.\n",
    "\n",
    "Een harde cast naar integer is niet handig, waarom niet?\n",
    "\n",
    "[<< Vorige](./04%20-%20Strings.ipynb) [Volgende >>](./06%20-%20Syntax.ipynb)"
   ]
  }
 ],
 "metadata": {
  "colab": {
   "collapsed_sections": [],
   "provenance": []
  },
  "kernelspec": {
   "display_name": "Python 3 (ipykernel)",
   "language": "python",
   "name": "python3"
  },
  "language_info": {
   "codemirror_mode": {
    "name": "ipython",
    "version": 3
   },
   "file_extension": ".py",
   "mimetype": "text/x-python",
   "name": "python",
   "nbconvert_exporter": "python",
   "pygments_lexer": "ipython3",
   "version": "3.10.8"
  }
 },
 "nbformat": 4,
 "nbformat_minor": 5
}
