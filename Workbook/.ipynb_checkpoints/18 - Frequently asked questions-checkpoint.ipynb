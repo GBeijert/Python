{
 "cells": [
  {
   "cell_type": "markdown",
   "id": "5955f0ac",
   "metadata": {},
   "source": [
    "<center><img src='Assets\\chipsoft_logo.svg' width=\"200\"/></center>\n",
    "\n",
    "[<< Vorige](./17%20-%20Voor%20thuis.ipynb)\n",
    "\n",
    "\n",
    "# Frequently asked questions\n",
    "De vragen die wij zelf hadden, of vaak gesteld worden tijdens de cursus.\n",
    "\n",
    "## Maqueen\n",
    "    \n",
    "### Ik krijg geen waardes terug?\n",
    "Controleer of de maqueen ingeschakeld is.\n",
    "\n",
    "### Ik krijg foutmeldingen over de i2c tijdens uitvoer van mijn code?\n",
    "Controleer of de maqueen ingeschakeld is.\n",
    "\n",
    "### De Maqueen doet helemaal niets?\n",
    "- Controleer of de maqueen ingeschakeld is.\n",
    "- Controleer of de Micro:bit er goedom inzit.\n",
    "\n",
    "## Python\n",
    "\n",
    "### Wat bepaald de volgorde van een set?\n",
    "De preciese bepaling van de volgorde van een set is afhankelijk van de implementatie, dit kan dus per Python versie en platform verschillen. Daarom mag er dus ook nooit vertrouwd worden op de volgorde van een set.\n",
    "\n",
    "De set gebruikt de hash van het object om een positie te berekenen. Vaak wordt niet de hele hash gebruikt, maar een gedeelte hiervan. Voor de eenvoud gebruiken we in het voorbeeld wel de hele hash.\n",
    "\n",
    "Om tot de positie te komen voor het element gebruiken we de hash % N, waar N het aantal slots is in de set."
   ]
  },
  {
   "cell_type": "code",
   "execution_count": 1,
   "id": "dc332f74",
   "metadata": {},
   "outputs": [
    {
     "name": "stdout",
     "output_type": "stream",
     "text": [
      "The index for value 1 is 1 % 8 = 1\n",
      "The index for value 3 is 3 % 8 = 3\n",
      "The index for value 8 is 8 % 8 = 0\n",
      "The index for value 6 is 6 % 8 = 6\n",
      "The index for value 8 is 8 % 8 = 0\n",
      "[8, 1, None, 3, None, None, 6, None]\n",
      "[8, 1, 3, 6]\n",
      "{8, 1, 3, 6}\n"
     ]
    }
   ],
   "source": [
    "N = 8 #(minimum size of a set in CPython)\n",
    "my_values = [1,3,8,6,8]\n",
    "my_unique_values = [None] * N\n",
    "   \n",
    "for item in my_values:\n",
    "    print('The index for value {0} is {1} % {2} = {3}'.format(item, hash(item), N, hash(item) % 8))\n",
    "    my_unique_values[hash(item) % 8] = item\n",
    "\n",
    "print(my_unique_values)\n",
    "print(list(filter(lambda x: not (x is None) , my_unique_values)))\n",
    "print(set(my_values))"
   ]
  },
  {
   "cell_type": "markdown",
   "id": "8e4a5c9d",
   "metadata": {},
   "source": [
    "Uiteraard moet er in de daadwerkelijke implementatie rekening gehouden worden met collisions, het uitbreiden van sets etc.\n",
    "\n",
    "### Wat is duck typing?\n",
    "Bij duck typing wordt er gebruik gemaakt van het gezegde “If it walks\n",
    "like a duck and it quacks like a duck, then it must be a duck”, oftewel als het zich gedraagt als, is het goed. Er wordt dus pas op runtime gekeken of de functie of attribuut beschikbaar is op de waarde waar deze call op gedaan wordt.\n",
    "\n",
    "Bijk duck typing is er dus ook geen noodzaak voor interfaces, wat weer code scheelt.\n",
    "\n",
    "Voor meer informatie: https://thecodebytes.com/what-is-duck-typing/\n",
    "\n",
    "### Ik hoef geen type aan te geven bij functies, maar het kan wel?\n",
    "Ja, je kan zowel de return type als parameter type declareren, echter de runtime doet er niets mee. Dit is puur en alleen voor de duidelijkheid naar andere programmeurs toe.\n",
    "\n",
    "### Exception handling\n",
    "Bij de uitvoer van code kan het voorkomen dat er een exceptie optreed. Dit werkt in Python vrijwel hetzelfde als in C#."
   ]
  },
  {
   "cell_type": "code",
   "execution_count": 1,
   "id": "291c75e5",
   "metadata": {},
   "outputs": [
    {
     "name": "stdout",
     "output_type": "stream",
     "text": [
      "Please enter a number: fd\n",
      "This value is not a valid number.\n"
     ]
    }
   ],
   "source": [
    "try:\n",
    "    x = int(input(\"Please enter a number: \"))\n",
    "except ValueError:\n",
    "        print(\"This value is not a valid number.\")"
   ]
  },
  {
   "cell_type": "markdown",
   "id": "36dd0160",
   "metadata": {},
   "source": [
    "Voor meer informatie over excepties en het afhandelen hiervan: https://docs.python.org/3/tutorial/errors.html\n",
    "\n",
    "[<< Vorige](./16%20-%20Voor%20thuis.ipynb)"
   ]
  }
 ],
 "metadata": {
  "kernelspec": {
   "display_name": "Python 3 (ipykernel)",
   "language": "python",
   "name": "python3"
  },
  "language_info": {
   "codemirror_mode": {
    "name": "ipython",
    "version": 3
   },
   "file_extension": ".py",
   "mimetype": "text/x-python",
   "name": "python",
   "nbconvert_exporter": "python",
   "pygments_lexer": "ipython3",
   "version": "3.10.8"
  }
 },
 "nbformat": 4,
 "nbformat_minor": 5
}
