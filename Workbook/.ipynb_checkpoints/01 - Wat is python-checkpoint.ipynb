{
 "cells": [
  {
   "cell_type": "markdown",
   "id": "752e4ec9",
   "metadata": {
    "id": "752e4ec9"
   },
   "source": [
    "<center><center><img src='Assets\\chipsoft_logo.svg' width=\"200\"/></center></center>\n",
    "\n",
    "[<< Vorige](./00%20-%20Introductie.ipynb) [Volgende >>](./02%20-%20Variables.ipynb)      \n",
    "\n",
    "# Wat is python\n",
    "\n",
    "Python is een programmeertaal ontwikkeld door Guido van Rossem en is in 1991 gelanceerd. Python is bedoeld als een taal die gebruikt kan worden om alle soorten applicaties te maken en kan zowel als script-taal als object georienteerd gebruikt worden. Het beperkt zich dus niet tot bijvoorbeeld alleen webapplicaties of scripts, er kunnen ook hele desktop applicaties mee geschreven worden. Er zijn voor Python veel gratis (open source) bibiliotheken beschikbaar wat het maken van nieuwe applicaties vereenvoudigd.    \n",
    "<br>\n",
    "De bedoeling van Python is dat het een leuke programmeertaal is, wat terug komt in de naam die gebaseerd is op de komedie serie Monty Python. De filosofie achter de programmeertaal is opgenomen in een document 'The Zen Of Python' en bevat spreuken als; \n",
    "\n",
    "- Beautiful is better than ugly.\n",
    "- Simple is better than complex.\n",
    "- Complex is better than complicated.\n",
    "- Readability counts.\n",
    "\n",
    "Voor de volledige lijst:\n",
    "\n",
    "\n",
    "\n",
    "\n",
    "\n",
    "\n",
    "\n"
   ]
  },
  {
   "cell_type": "code",
   "execution_count": null,
   "id": "FzuQUzXd-ZHC",
   "metadata": {
    "colab": {
     "base_uri": "https://localhost:8080/"
    },
    "executionInfo": {
     "elapsed": 6,
     "status": "ok",
     "timestamp": 1662537842769,
     "user": {
      "displayName": "Gerben Beijert",
      "userId": "02493968547994280324"
     },
     "user_tz": -120
    },
    "id": "FzuQUzXd-ZHC",
    "outputId": "518c21ee-9c4e-4680-ee73-385a1503ff22"
   },
   "outputs": [],
   "source": [
    "import this"
   ]
  },
  {
   "cell_type": "markdown",
   "id": "vzyWUuoe-Z2L",
   "metadata": {
    "id": "vzyWUuoe-Z2L"
   },
   "source": [
    "### Leesbaarheid\n",
    "Een van de hoofddoelen van Python is leesbaarheid, dit wordt bereikt door de syntax klein te houden.\n",
    "<br><br>\n",
    "**Whitespaces**<br>\n",
    "Omdat Python geen gebruik maakt van accolades, is indentatie met whitespaces erg belangrijk voor het definieren van de code-blokken. Zonder accolades en indentatie zou de code onleesbaar worden. Er wordt dan ook streng 'gehandhaafd' op de correcte indentatie. Wanneer deze niet klopt zal een indentation error optreden.  \n",
    "<br>\n",
    "**Typering** <br>\n",
    "Er wordt gebruik gemaakt van 'duck-typing', wat inhoudt dat de types van variabelen en parameters niet gedefinieerd hoeven te worden. Tijdens het compileren worden types niet gecontroleerd, waardoor het builden dus goed kan gaan ondanks foutieve typering. De fouten zullen dan tijdens het uitvoeren optreden.  \n",
    "\n",
    "### Platform onafhankelijk\n",
    "Python wordt tijdens het uitvoeren van de code geinterpreteerd, dit geeft de mogelijkheid om de code te gebruiken op verschillende platformen. De code wordt eerst opgeslagen als bytecode, die vervolgens door de verschillende platformen zelf geinterpreteerd kan worden. \n",
    "\n",
    "### Gebruik Python\n",
    "Python wordt gebruikt voor veel verschillende doeleinden, zoals web development, analyseren van (big) data, DevOps automatisering, AI en meer. Door de vele beschikbare bibliotheken gericht op AI, data analyse en data visualisatie is Python in dit vakgebied populair. Voor web-based applicaties zijn tal van frameworks beschikbaar, zoals Django, Pylons en web2py.\n",
    "\n",
    "**Grote namen** <br>\n",
    "Een aantal grote namen die gebruik maken van Python zijn: \n",
    "- Intel\n",
    "- IBM\n",
    "- NASA\n",
    "- Pixar\n",
    "- Netflix\n",
    "- Spotify\n",
    "- Google\n",
    "\n",
    "### Libraries \n",
    "Python is een basis framework, waarin de basisfunctionaliteiten uitgeleverd worden. Met deze basis zijn enorm veel libraries geschreven die Python zijn kracht geeft\n",
    "\n",
    "[<< Vorige](./00%20-%20Introductie.ipynb) [Volgende >>](./02%20-%20Variables.ipynb)     \n"
   ]
  }
 ],
 "metadata": {
  "colab": {
   "collapsed_sections": [],
   "provenance": []
  },
  "kernelspec": {
   "display_name": "Python 3 (ipykernel)",
   "language": "python",
   "name": "python3"
  },
  "language_info": {
   "codemirror_mode": {
    "name": "ipython",
    "version": 3
   },
   "file_extension": ".py",
   "mimetype": "text/x-python",
   "name": "python",
   "nbconvert_exporter": "python",
   "pygments_lexer": "ipython3",
   "version": "3.10.8"
  }
 },
 "nbformat": 4,
 "nbformat_minor": 5
}
