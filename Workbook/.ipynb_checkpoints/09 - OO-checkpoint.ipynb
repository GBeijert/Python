{
 "cells": [
  {
   "cell_type": "markdown",
   "id": "ba0efbc2",
   "metadata": {
    "id": "ba0efbc2"
   },
   "source": [
    "<center><img src='Assets\\chipsoft_logo.svg' width=\"200\"/></center>\n",
    "\n",
    "[<< Vorige](./08%20-%20Slicing%2C%20mapping%20en%20filteren.ipynb) [Volgende >>](./10%20-%20Microbit.ipynb) \n",
    "\n",
    "# Object Oriented\n",
    "\n",
    "Python ondersteund object georienteerd programmeren. Het definieren van een klasse gebeurt met het keyword class, gevolgd door een camelcase naam."
   ]
  },
  {
   "cell_type": "code",
   "execution_count": 3,
   "id": "c4158af8",
   "metadata": {
    "id": "c4158af8",
    "outputId": "4c3a50a5-08e2-4659-fbcb-02c4bc79e300"
   },
   "outputs": [],
   "source": [
    "class Robot():\n",
    "    #class object attribute is the same for any instance of this class.\n",
    "    can_move = False\n",
    "    \n",
    "    def __init__(self, name, sensors): #constructor\n",
    "        self.name = name #define and fill attribute\n",
    "        self.available_sensors = sensors\n",
    "        \n",
    "    def describe(self): #A method in a class always has the parameter self.\n",
    "        \n",
    "        print(\"Hello, my name is {name} and I have the following sensors: {sensors}\".format(name = self.name, sensors = self.available_sensors)) #to reference an attribute, always use self.attribute_name\n",
    "    \n",
    "\n",
    "    \n",
    "first_robot = Robot(\"Monty\", [\"Bottom_Left\", \"Bottom_Right\"])\n",
    "\n",
    "first_robot.describe()\n",
    "    "
   ]
  },
  {
   "cell_type": "markdown",
   "id": "9e767f27",
   "metadata": {},
   "source": [
    "Alle attributen en functies zijn standaard publiekelijk beschikbaar. Wil je niet dat mensen aan deze attributen of functies komen is de conventie om deze te laten beginnen met een underscore. Dit maakt hem niet direct private, maar laat de gebruikers wel weten dat ze hier niet aan zouden moeten komen.\n",
    "\n",
    "Wil je ze echt private hebben, moet je twee underscores gebruiken."
   ]
  },
  {
   "cell_type": "code",
   "execution_count": null,
   "id": "TWO7PpCAETmL",
   "metadata": {
    "id": "TWO7PpCAETmL"
   },
   "outputs": [],
   "source": [
    "class PrivateRobot():\n",
    "    def __init__(self, name):\n",
    "        self.__name = name;\n",
    "        \n",
    "robot = PrivateRobot('R2D2')\n",
    "\n",
    "robot.__name"
   ]
  },
  {
   "cell_type": "code",
   "execution_count": null,
   "id": "853b629b",
   "metadata": {},
   "outputs": [],
   "source": [
    "class LessPrivateRobot():\n",
    "    def __init__(self, name):\n",
    "        self.__name = name;\n",
    "        \n",
    "    @property\n",
    "    def name(self):\n",
    "        return self.__name;\n",
    "    \n",
    "    @name.setter\n",
    "    def name(self, value):\n",
    "        self.__name = value;\n",
    "        \n",
    "robot = LessPrivateRobot('Unknown')\n",
    "\n",
    "robot.name = 'R2D2'\n",
    "robot.name"
   ]
  },
  {
   "cell_type": "markdown",
   "id": "7167993c",
   "metadata": {},
   "source": [
    "# Abstract\n",
    "Wanneer je gebruik wil maken van abstractie heb je een aparte module nodig. Deze module geeft onder andere toegang tot een class waarmee je aangeeft dat jouw class abstract is. Wil je methods abstract maken, zal je een decorator moeten gebruiken. \n",
    "\n",
    "Wil je meer weten over abstracte classes, kijk dan [hier](https://www.geeksforgeeks.org/abstract-classes-in-python/)."
   ]
  },
  {
   "cell_type": "code",
   "execution_count": 2,
   "id": "cee7f884",
   "metadata": {},
   "outputs": [
    {
     "name": "stdout",
     "output_type": "stream",
     "text": [
      "I am Wally!\n"
     ]
    }
   ],
   "source": [
    "from abc import ABC, abstractmethod\n",
    "\n",
    "class Robot(ABC): #ABC indicates its abstract.\n",
    "    \n",
    "    @abstractmethod #this method needs to be implemented.\n",
    "    def describe(self):\n",
    "        pass\n",
    "    \n",
    "class Wally(Robot):\n",
    "    def describe(self):\n",
    "        print(\"I am Wally!\")\n",
    "        \n",
    "wally = Wally()\n",
    "\n",
    "wally.describe()"
   ]
  },
  {
   "cell_type": "markdown",
   "id": "3eb24985",
   "metadata": {},
   "source": [
    "Indien je wil weten of een klasse een subclass is van de ander, kan de functie \"issubclass\" gebruikt worden. Indien je wil weten of een instantie een bepaalde (sub)class is, gebruik dan de functie \"isinstance\". Om de volledige tree van overerving te bekijken kan de \"dir\" functie gebruikt worden."
   ]
  },
  {
   "cell_type": "markdown",
   "id": "6GH9ZbJfEQNK",
   "metadata": {
    "id": "6GH9ZbJfEQNK"
   },
   "source": [
    "[<< Vorige](./08%20-%20Slicing%2C%20mapping%20en%20filteren.ipynb) [Volgende >>](./10%20-%20Microbit.ipynb) "
   ]
  }
 ],
 "metadata": {
  "colab": {
   "collapsed_sections": [],
   "provenance": []
  },
  "kernelspec": {
   "display_name": "Python 3 (ipykernel)",
   "language": "python",
   "name": "python3"
  },
  "language_info": {
   "codemirror_mode": {
    "name": "ipython",
    "version": 3
   },
   "file_extension": ".py",
   "mimetype": "text/x-python",
   "name": "python",
   "nbconvert_exporter": "python",
   "pygments_lexer": "ipython3",
   "version": "3.10.8"
  }
 },
 "nbformat": 4,
 "nbformat_minor": 5
}
