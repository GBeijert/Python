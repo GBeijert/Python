{
 "cells": [
  {
   "cell_type": "markdown",
   "id": "5efda335",
   "metadata": {
    "id": "5efda335"
   },
   "source": [
    "<center><img src='Assets\\chipsoft_logo.svg' width=\"200\"/></center>\n",
    "\n",
    "[<< Vorige](./02%20-%20Variables.ipynb) [Volgende >>](./04%20-%20Strings.ipynb)  \n",
    "\n",
    "# Literals\n",
    "\n",
    "Literals zijn de ruwe data types, oftewel de basis types van data.\n",
    "\n",
    "> Literals in Python is defined as the raw data assigned to variables or constants while programming.\n",
    "\n",
    "Er zijn een aantal verschillende type literals binnen Python, welke ieder zijn eigen subset heeft. We zullen de verschillende literals verderop behandelen.\n",
    "\n",
    "- Numeriek\n",
    "- Boolean\n",
    "- Special\n",
    "- String\n",
    "\n",
    "## Numeriek\n",
    "\n",
    "### Integer\n",
    "Integers kunnen net zoals in C# alleen hele getallen bevatten, oftewel getallen zonder komma. De lengte van de integer is 'Onbeperkt', oftewel net zo lang als het geheugen aan kan."
   ]
  },
  {
   "cell_type": "code",
   "execution_count": null,
   "id": "6f696dac",
   "metadata": {
    "id": "6f696dac",
    "outputId": "ebed416e-eeca-41c0-ccf2-f9aa317de66a"
   },
   "outputs": [],
   "source": [
    "distance = 8\n",
    "speed = 15\n",
    "\n",
    "#division\n",
    "total_time = distance / speed\n",
    "\n",
    "display(total_time)\n",
    "\n",
    "#multiplication\n",
    "time_driven = 12\n",
    "total_distance = speed * time_driven\n",
    "\n",
    "display(total_distance)\n",
    "\n",
    "#Addition\n",
    "robot_chassis_length = 30\n",
    "length_of_sensor = 2\n",
    "total_robot_length = length_of_sensor + robot_chassis_length;\n",
    "\n",
    "display(total_robot_length)\n",
    "\n",
    "#Substraction\n",
    "distance_till_obstacle = 40\n",
    "space_left_with_robot = distance_till_obstacle - total_robot_length\n",
    "\n",
    "if(space_left_with_robot > 0):\n",
    "    display(\"The robot fits!\")\n",
    "else:\n",
    "    display(\"The robot does not fit!\")"
   ]
  },
  {
   "cell_type": "markdown",
   "id": "90be4cdd",
   "metadata": {
    "id": "90be4cdd"
   },
   "source": [
    "### float\n",
    "\n",
    "Floats kunnen in tegenstelling tot integers wel gebroken getallen bevatten, oftewel getallen met komma. De float in Python gebruikt 8 bytes i.t.t. de float van C#, deze gebruikt 4 bytes.\n",
    "\n",
    "Let wel op dat de waarde van de float tot op zekere hoogte ongeveer is. De waarde van 0.1 * 3 is niet hetzelfde als 0.3."
   ]
  },
  {
   "cell_type": "code",
   "execution_count": null,
   "id": "3ccf9eb1",
   "metadata": {
    "id": "3ccf9eb1",
    "outputId": "c5e735f4-063f-4813-babb-a15f4c2513f4"
   },
   "outputs": [],
   "source": [
    "import math\n",
    "import sys\n",
    "\n",
    "display(format(0.1 * 3, '.20f'))\n",
    "display(format(0.3, '.20f'))\n",
    "\n",
    "display(math.isclose(0.1 * 3, 0.3))"
   ]
  },
  {
   "cell_type": "markdown",
   "id": "7c9a163a",
   "metadata": {
    "id": "7c9a163a"
   },
   "source": [
    "## Boolean\n",
    "\n",
    "Uiteraard is er de boolean literal, de True of False. "
   ]
  },
  {
   "cell_type": "code",
   "execution_count": null,
   "id": "91cffbd6",
   "metadata": {
    "id": "91cffbd6",
    "outputId": "b63fc2e9-d9b6-4e43-af8f-3b15ede70d89"
   },
   "outputs": [],
   "source": [
    "true = True\n",
    "false = False\n",
    "\n",
    "display(true)\n",
    "display(false)\n",
    "\n",
    "display(true and false)\n",
    "display(true or false)"
   ]
  },
  {
   "cell_type": "markdown",
   "id": "1e2ce46e",
   "metadata": {
    "id": "1e2ce46e"
   },
   "source": [
    "## None\n",
    "Om aan te geven dat een variabele nog niet toegewezen is kan je de literal None gebruiken. Deze is vergelijkbaar met de waarde null uit C# om aan te geven dat er geen waarde is.\n",
    "\n",
    "In het volgende hoofdstuk behandelen we de laatste literal die besproken wordt in deze cursus; de String literal."
   ]
  },
  {
   "cell_type": "code",
   "execution_count": null,
   "id": "a53aac05",
   "metadata": {
    "id": "a53aac05",
    "outputId": "6afd6043-b458-4b9a-facb-01ce2e0ae551"
   },
   "outputs": [],
   "source": [
    "not_assigned_yet = None\n",
    "\n",
    "display(not_assigned_yet)"
   ]
  },
  {
   "cell_type": "markdown",
   "id": "4d5ee63d",
   "metadata": {
    "id": "4d5ee63d"
   },
   "source": [
    "In het volgende hoofdstuk behandelen we de laatste literal die besproken wordt in deze cursus; de String literal.\n",
    "\n",
    "[<< Vorige](./02%20-%20Variables.ipynb) [Volgende >>](./04%20-%20Strings.ipynb)  "
   ]
  }
 ],
 "metadata": {
  "colab": {
   "collapsed_sections": [],
   "provenance": []
  },
  "kernelspec": {
   "display_name": "Python 3 (ipykernel)",
   "language": "python",
   "name": "python3"
  },
  "language_info": {
   "codemirror_mode": {
    "name": "ipython",
    "version": 3
   },
   "file_extension": ".py",
   "mimetype": "text/x-python",
   "name": "python",
   "nbconvert_exporter": "python",
   "pygments_lexer": "ipython3",
   "version": "3.10.8"
  }
 },
 "nbformat": 4,
 "nbformat_minor": 5
}
