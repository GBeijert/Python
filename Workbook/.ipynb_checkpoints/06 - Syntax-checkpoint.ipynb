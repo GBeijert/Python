{
 "cells": [
  {
   "cell_type": "markdown",
   "id": "1c4b01c8",
   "metadata": {
    "id": "1c4b01c8"
   },
   "source": [
    "<center><img src='Assets\\chipsoft_logo.svg' width=\"200\"/></center>\n",
    "\n",
    "[<< Vorige](./05%20-%20Input%20_%20output.ipynb) [Volgende >>](./07%20-%20Collecties.ipynb) \n",
    "\n",
    "# Syntax\n",
    "De structuur van een programma is in elke programmeertaal voor het grootste gedeelte hetzelfde, alleen de syntax is anders. Doordat iedereen bij ChipSoft een doorgewinterde programmeur is, kan de syntax snel eigen gemaakt worden.\n",
    "\n",
    "## If\n",
    "De if maakt gebruik van indenting om aan te geven welke code binnen het block behoort."
   ]
  },
  {
   "cell_type": "code",
   "execution_count": null,
   "id": "948ce293",
   "metadata": {
    "id": "948ce293",
    "outputId": "b7ae0260-c4f4-48a8-b9ae-f15466e45cdc"
   },
   "outputs": [],
   "source": [
    "distance = 500\n",
    "\n",
    "if distance < 10:                                     #don't forget the :\n",
    "    print('Stop')\n",
    "elif distance >= 10 and distance < 300:                  #else if in C#\n",
    "    print('Half power to engines')\n",
    "else:\n",
    "    print('Full power to engines');"
   ]
  },
  {
   "cell_type": "markdown",
   "id": "9016b5d5",
   "metadata": {
    "id": "9016b5d5"
   },
   "source": [
    "## Loop\n",
    "- Range\n",
    "\n",
    "\n",
    "### while"
   ]
  },
  {
   "cell_type": "code",
   "execution_count": null,
   "id": "26193216",
   "metadata": {
    "id": "26193216",
    "outputId": "7a3690f3-b58e-476b-d140-4dbc64251525"
   },
   "outputs": [],
   "source": [
    "is_running = True\n",
    "current_loop = 0\n",
    "\n",
    "while is_running:\n",
    "    print('While loop')\n",
    "    \n",
    "    current_loop +=1\n",
    "    \n",
    "    if current_loop == 5:\n",
    "        is_running = False\n",
    "        "
   ]
  },
  {
   "cell_type": "markdown",
   "id": "6dd40245",
   "metadata": {
    "id": "6dd40245"
   },
   "source": [
    "### foreach"
   ]
  },
  {
   "cell_type": "code",
   "execution_count": null,
   "id": "95d5a584",
   "metadata": {
    "id": "95d5a584",
    "outputId": "563da221-d9fa-4b1e-a156-b1a7b7218ae1"
   },
   "outputs": [],
   "source": [
    "available_sensors = ['Infrared grayscale', 'Infrared receiver', 'Ultrasonic']\n",
    "for sensor in available_sensors:\n",
    "    print(sensor)"
   ]
  },
  {
   "cell_type": "markdown",
   "id": "6dfa22ce",
   "metadata": {
    "id": "6dfa22ce"
   },
   "source": [
    "### for loop\n",
    "Een for loop wordt meestal gebruikt om een index te bepalen van de item uit de collectie. Er is geen verkorte schrijfwijze binnen Python om dit voor elkaar te krijgen zoals we dat doen in C# met de for int i = 0 etc.\n",
    "\n",
    "Dit kan behaald worden door een while loop te schrijven met een variabele."
   ]
  },
  {
   "cell_type": "code",
   "execution_count": null,
   "id": "2629691f",
   "metadata": {
    "id": "2629691f",
    "outputId": "397c2805-9db6-4abc-bc6e-1cfcb2222156"
   },
   "outputs": [],
   "source": [
    "available_sensors = ['Infrared grayscale', 'Infrared receiver', 'Ultrasonic']\n",
    "current_index = 0\n",
    "\n",
    "while current_index < len(available_sensors):\n",
    "    print(str(current_index) + ': ' + available_sensors[current_index])\n",
    "    current_index += 1"
   ]
  },
  {
   "cell_type": "markdown",
   "id": "ab05d6ba",
   "metadata": {
    "id": "ab05d6ba"
   },
   "source": [
    "Daarnaast is het mogelijk om over een collectie te loopen door middel van de functie enumerate. Deze functie geeft voor elke entry in de collectie een tuple terug met als eerste argument de index en tweede argument de waarde."
   ]
  },
  {
   "cell_type": "code",
   "execution_count": null,
   "id": "b7a2e671",
   "metadata": {
    "id": "b7a2e671",
    "outputId": "cdaa7767-efdd-45f4-891f-160a44e50653"
   },
   "outputs": [],
   "source": [
    "available_sensors = ['Infrared grayscale', 'Infrared receiver', 'Ultrasonic']\n",
    "\n",
    "for index, sensor in enumerate(available_sensors):\n",
    "    print(str(index) + ': ' + sensor)"
   ]
  },
  {
   "cell_type": "markdown",
   "id": "70685e9a",
   "metadata": {
    "id": "70685e9a"
   },
   "source": [
    "Je kan snel een collectie van getallen genereren door gebruik te maken van de range() functie."
   ]
  },
  {
   "cell_type": "code",
   "execution_count": null,
   "id": "5c336af8",
   "metadata": {
    "id": "5c336af8",
    "outputId": "b7f84142-b3d0-4559-aadb-4ce7d31c385b"
   },
   "outputs": [],
   "source": [
    "print(\"Turn on all lights\")\n",
    "\n",
    "def create_empty_canvas():\n",
    "    return [\n",
    "        ['']* 5, \n",
    "        ['']* 5, \n",
    "        ['']* 5 ,\n",
    "        ['']* 5 ,\n",
    "        ['']* 5 \n",
    "    ]\n",
    "\n",
    "def print_canvas(canvas, name):\n",
    "    print(name + '\\r\\n')\n",
    "    for row in canvas:\n",
    "        print('\\t'.join(row))\n",
    "        print('\\r\\n')\n",
    "\n",
    "first_canvas = create_empty_canvas()\n",
    "for x in range(5):\n",
    "    for y in range(5):\n",
    "        first_canvas[x][y] = '*'\n",
    "        \n",
    "print_canvas(first_canvas, \"all on\")\n",
    "        \n",
    "second_canvas = create_empty_canvas()\n",
    "for x in range(0,6,2):\n",
    "    for y in range(0,6,2):\n",
    "        second_canvas[x][y] = '*'\n",
    "        \n",
    "print_canvas(second_canvas, \"All with steps on\")\n",
    "        \n",
    "\n"
   ]
  },
  {
   "cell_type": "markdown",
   "id": "c5d26dc4",
   "metadata": {
    "id": "c5d26dc4"
   },
   "source": [
    "## Import\n",
    "Net zoals in C# kent Python een manier om je programma te verdelen in namespaces, deze namespaces heten modules in Python.\n",
    "\n",
    "Het importeren van deze modules kan je doen door middel van het import statement. Hiermee importeer je de volledige module.\n",
    "\n"
   ]
  },
  {
   "cell_type": "code",
   "execution_count": null,
   "id": "HWGahyzw73nR",
   "metadata": {
    "colab": {
     "base_uri": "https://localhost:8080/"
    },
    "executionInfo": {
     "elapsed": 234,
     "status": "ok",
     "timestamp": 1662555085548,
     "user": {
      "displayName": "Gerben Beijert",
      "userId": "02493968547994280324"
     },
     "user_tz": -120
    },
    "id": "HWGahyzw73nR",
    "outputId": "1f2680ef-2ba3-4b2c-cf15-7cd071924c98"
   },
   "outputs": [],
   "source": [
    "import math\n",
    "\n",
    "print(math.pi)"
   ]
  },
  {
   "cell_type": "markdown",
   "id": "0AlPIygp757Y",
   "metadata": {
    "id": "0AlPIygp757Y"
   },
   "source": [
    "Het importeren van gedeeltes van de namespace kan je doen door de from keyword te gebruiken."
   ]
  },
  {
   "cell_type": "code",
   "execution_count": null,
   "id": "1db4870b",
   "metadata": {
    "colab": {
     "base_uri": "https://localhost:8080/"
    },
    "executionInfo": {
     "elapsed": 254,
     "status": "ok",
     "timestamp": 1662555082589,
     "user": {
      "displayName": "Gerben Beijert",
      "userId": "02493968547994280324"
     },
     "user_tz": -120
    },
    "id": "1db4870b",
    "outputId": "43dcdd27-6320-4db0-8e16-65f20f1bc495"
   },
   "outputs": [],
   "source": [
    "from math import pi\n",
    "\n",
    "print(pi)\n"
   ]
  },
  {
   "cell_type": "markdown",
   "id": "RVvRVrMYAlmR",
   "metadata": {
    "id": "RVvRVrMYAlmR"
   },
   "source": [
    "Tot slot kan je modules importeren en een andere alias geven."
   ]
  },
  {
   "cell_type": "code",
   "execution_count": null,
   "id": "Z-Hadv3DAtAq",
   "metadata": {
    "colab": {
     "base_uri": "https://localhost:8080/"
    },
    "executionInfo": {
     "elapsed": 238,
     "status": "ok",
     "timestamp": 1662555260720,
     "user": {
      "displayName": "Gerben Beijert",
      "userId": "02493968547994280324"
     },
     "user_tz": -120
    },
    "id": "Z-Hadv3DAtAq",
    "outputId": "1b1c597e-0575-472a-82e9-302f6beeb8ed"
   },
   "outputs": [],
   "source": [
    "import math as fun\n",
    "\n",
    "print(fun.pi)"
   ]
  },
  {
   "cell_type": "markdown",
   "id": "TcUhZyMb8ARg",
   "metadata": {
    "id": "TcUhZyMb8ARg"
   },
   "source": [
    "In principe is elke .py bestand een module, namespaces voeg je toe door deze in verschillende mappen te zetten. Voorbeeld:\n",
    "\n",
    "-\n",
    "  - main.py\n",
    "  - robot.py\n",
    "    - Components\n",
    "      - motor.py\n",
    "        class Motor\n",
    "\n",
    "\n",
    "Het volledige pad naar Motor is dan components.motor.Motor().\n",
    "\n",
    "Om alle ingebouwde modules te bekijken, kan de volgende code gebruikt worden.\n"
   ]
  },
  {
   "cell_type": "code",
   "execution_count": null,
   "id": "cDFoJimzBI9-",
   "metadata": {
    "id": "cDFoJimzBI9-"
   },
   "outputs": [],
   "source": [
    "help(\"modules\")"
   ]
  },
  {
   "cell_type": "markdown",
   "id": "58e0e995",
   "metadata": {
    "id": "58e0e995"
   },
   "source": [
    "## Functions\n",
    "Het definiëren van functies gebeurt met het keyword 'def'. De conventie van Python is dat functies met snake casing gedefinieerd worden. Oftewel, een underscore tussen alle woorden. Een functie gedefinieerd binnen een klasse wordt een method genoemd.\n",
    "\n",
    "Alle code die geindent geschreven wordt, valt binnen deze functie."
   ]
  },
  {
   "cell_type": "code",
   "execution_count": null,
   "id": "76f425cb",
   "metadata": {
    "id": "76f425cb",
    "outputId": "e32168f2-3ea0-42d8-cda6-842e4c5b6c8e"
   },
   "outputs": [],
   "source": [
    "def drive_forward():\n",
    "    '''\n",
    "    Documentation can be written here.\n",
    "    '''\n",
    "    print(\"Driving\")\n",
    "    \n",
    "drive_forward()\n",
    "    "
   ]
  },
  {
   "cell_type": "markdown",
   "id": "7b3268f3",
   "metadata": {
    "id": "7b3268f3"
   },
   "source": [
    "Een functie heeft vaak parameters nodig om nuttig te zijn, parameters hoeven niet getypeerd te worden, maar kan wel."
   ]
  },
  {
   "cell_type": "code",
   "execution_count": null,
   "id": "6046393f",
   "metadata": {
    "id": "6046393f",
    "outputId": "96db9c64-b105-44a3-97a7-dcf25e98d93e"
   },
   "outputs": [],
   "source": [
    "def drive_forward(speed_engine_one, speed_engine_two):\n",
    "    print(\"Setting speed for engine one to: \" + str(speed_engine_one))\n",
    "    print(\"Setting speed for engine two to: \" + str(speed_engine_two))\n",
    "    \n",
    "drive_forward(20, 10)\n",
    "    "
   ]
  },
  {
   "cell_type": "code",
   "execution_count": null,
   "id": "d961b697",
   "metadata": {
    "id": "d961b697",
    "outputId": "6f87a992-fd0c-4b61-fb1f-65d1719d6b8f"
   },
   "outputs": [],
   "source": [
    "#pass multiple arguments, like the params construction in C#\n",
    "def send_values_to_other_robot(*args):\n",
    "    for value in args:\n",
    "        print(\"sending: \"+ value)\n",
    "    \n",
    "send_values_to_other_robot(\"Lights: On\", \"Set-Speed: 10\", \"Set-Speed: 40\", \"Set-Speed: 0\", \"Honk\")"
   ]
  },
  {
   "cell_type": "markdown",
   "id": "e94ff28c",
   "metadata": {},
   "source": [
    "Het is niet nodig om variabelen of return types te typeren, het kan echter wel helpen zodat je weet wat er verwacht wordt. "
   ]
  },
  {
   "cell_type": "code",
   "execution_count": null,
   "id": "500fee15",
   "metadata": {},
   "outputs": [],
   "source": [
    "def format_speed(speed : int) -> str:\n",
    "    return \" \".join((str(speed), \"Km/h\"))\n",
    "\n",
    "format_speed(100)"
   ]
  },
  {
   "cell_type": "markdown",
   "id": "48363f0b",
   "metadata": {},
   "source": [
    "## Scope\n",
    "Het is net zoals in veel talen mogelijk om dezelfde variabele op meerdere plekken te definiëren. Het is echter niet mogelijk om variabelen zomaar buiten de scope aan te passen. Indien je een variabele vanuit buiten de scope aan wil passen, dien je dat eerst aan te geven in de functie."
   ]
  },
  {
   "cell_type": "code",
   "execution_count": null,
   "id": "850d9dc8",
   "metadata": {},
   "outputs": [],
   "source": [
    "speed = 10\n",
    "\n",
    "def measure_speed():\n",
    "    global speed\n",
    "    speed = 12\n",
    "    \n",
    "measure_speed()    \n",
    "\n",
    "print(speed)"
   ]
  },
  {
   "cell_type": "markdown",
   "id": "YQupBabSCU92",
   "metadata": {
    "id": "YQupBabSCU92"
   },
   "source": [
    "[<< Vorige](./05%20-%20Input%20_%20output.ipynb) [Volgende >>](./07%20-%20Collecties.ipynb) "
   ]
  }
 ],
 "metadata": {
  "colab": {
   "collapsed_sections": [],
   "provenance": []
  },
  "kernelspec": {
   "display_name": "Python 3 (ipykernel)",
   "language": "python",
   "name": "python3"
  },
  "language_info": {
   "codemirror_mode": {
    "name": "ipython",
    "version": 3
   },
   "file_extension": ".py",
   "mimetype": "text/x-python",
   "name": "python",
   "nbconvert_exporter": "python",
   "pygments_lexer": "ipython3",
   "version": "3.10.8"
  }
 },
 "nbformat": 4,
 "nbformat_minor": 5
}
