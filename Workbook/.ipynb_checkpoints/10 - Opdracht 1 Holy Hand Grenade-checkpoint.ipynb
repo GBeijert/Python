{
 "cells": [
  {
   "cell_type": "markdown",
   "id": "ba0efbc2",
   "metadata": {
    "id": "ba0efbc2"
   },
   "source": [
    "<center><img src='Assets\\chipsoft_logo.svg' width=\"200\"/></center>\n",
    "\n",
    "[<< Vorige](./09%20-%20OO.ipynb) [Volgende >>](./11%20-%20Microbit.ipynb) \n",
    "\n",
    "# Opdracht: Holy Hand Grenade\n",
    "\n",
    "Met deze opdracht gaan jullie kennis maken met het ontwikkelen van een kleine applicatie met Python.\n",
    "\n",
    "## Wat ga je gebruiken?\n",
    "- Jupyter\n",
    "\n",
    "## Wat gaan jullie doen?\n",
    "Er zijn drie kisten en één holy hand grenade. De granaat wordt in één van de kisten gelegd en de kisten worden gehusseld. Kies de juiste kist!\n",
    "\n",
    "Je gaat je geleerde technieken in de praktijk brengen door dit spelletje te maken. Denk hierbij aan:\n",
    "\n",
    "**Output**  \n",
    "Je toont berichten aan de gebruiker, je laat de gebruiker zien welke kisten omgewisseld worden.\n",
    "\n",
    "**Input**  \n",
    "Je gaat de gebruiker om input vragen, waar ligt de granaat?\n",
    "\n",
    "**Collecties**  \n",
    "Je gaat de kisten/inhoud bijhouden in een collectie en je zal deze random gaan wisselen.\n",
    "\n",
    "**Functies**  \n",
    "Je houdt een nette structuur aan in de applicatie, je maakt gebruik van functies waar mogelijk.\n",
    "\n",
    "Door de module random te importeren kan je gebruik maken van een random generator.\n",
    "\n",
    "## Bonus\n",
    "\n",
    "De kist is met een wachtwoord beveiligd. Geef de gebruiker na het kiezen van de goede kist een hint en 3 kansen om het wachtwoord te raden.\n",
    "\n",
    "## Voorbeeld:\n",
    "Kist 1 is leeg, kist 2 is leeg, kist 3 bevat de holy handgrenade\n",
    "\n",
    "Wissel 1 voor 2\n",
    "Wissel 2 voor 3\n",
    "Wissel 3 voor 2\n",
    "\n",
    "Waar bevind de holy handgrenade?"
   ]
  },
  {
   "cell_type": "code",
   "execution_count": 3,
   "id": "c4158af8",
   "metadata": {
    "id": "c4158af8",
    "outputId": "4c3a50a5-08e2-4659-fbcb-02c4bc79e300"
   },
   "outputs": [],
   "source": [
    "import random\n",
    "\n",
    "class Chest():\n",
    "    def __init__(self, contains_holy_handgrenade):\n",
    "        self.contains_holy_handgrenade = contains_holy_handgrenade  \n",
    "\n",
    "chests = create_chests()\n",
    "\n",
    "#create list and append chests\n",
    "def create_chests():\n",
    "    pass\n",
    "    \n",
    "#shuffle two random chests, show the player what chests are shuffled!\n",
    "def shuffle_chests():   \n",
    "    pass\n",
    "\n",
    "#Ask the user to guess\n",
    "def ask_user_for_input():\n",
    "    pass\n",
    "\n",
    "#define game logic here.\n",
    "def play_game():\n",
    "    pass\n",
    "\n",
    "play_game()\n",
    "    "
   ]
  },
  {
   "cell_type": "code",
   "execution_count": null,
   "id": "TWO7PpCAETmL",
   "metadata": {
    "id": "TWO7PpCAETmL"
   },
   "outputs": [],
   "source": []
  },
  {
   "cell_type": "markdown",
   "id": "6GH9ZbJfEQNK",
   "metadata": {
    "id": "6GH9ZbJfEQNK"
   },
   "source": [
    "[<< Vorige](./08%20-%20Slicing%2C%20mapping%20en%20filteren.ipynb) [Volgende >>](./10%20-%20Microbit.ipynb) "
   ]
  }
 ],
 "metadata": {
  "colab": {
   "collapsed_sections": [],
   "provenance": []
  },
  "kernelspec": {
   "display_name": "Python 3 (ipykernel)",
   "language": "python",
   "name": "python3"
  },
  "language_info": {
   "codemirror_mode": {
    "name": "ipython",
    "version": 3
   },
   "file_extension": ".py",
   "mimetype": "text/x-python",
   "name": "python",
   "nbconvert_exporter": "python",
   "pygments_lexer": "ipython3",
   "version": "3.10.8"
  }
 },
 "nbformat": 4,
 "nbformat_minor": 5
}
