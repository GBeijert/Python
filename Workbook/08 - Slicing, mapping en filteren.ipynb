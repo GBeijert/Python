{
 "cells": [
  {
   "cell_type": "markdown",
   "id": "e35b6e64",
   "metadata": {
    "id": "e35b6e64"
   },
   "source": [
    "<center><img src='Assets\\chipsoft_logo.svg' width=\"200\"/></center>\n",
    "\n",
    "[<< Vorige](./07%20-%20Collecties.ipynb) [Volgende >>](./09%20-%20Opdracht%201%20Holy%20Hand%20Grenade.ipynb) \n",
    "\n",
    "# Index\n",
    "\n",
    "Wanneer je werkt met collecties in Python is de indexering gelijk aan de indexering in C#, het eerste element in de collectie heeft positie 0. Iets wat wel anders is, is dat je ook -x kan gebruiken, oftewel begin achteruit te tellen en pak dan het element."
   ]
  },
  {
   "cell_type": "code",
   "execution_count": null,
   "id": "3fe62513",
   "metadata": {
    "id": "3fe62513",
    "outputId": "8d0e092e-ba11-4132-bcc1-93b4496a6b90"
   },
   "outputs": [],
   "source": [
    "available_sensors = ['Infrared grayscale', 'Infrared receiver', 'Ultrasonic']\n",
    "\n",
    "\n",
    "print(available_sensors[0])\n",
    "\n",
    "print(available_sensors[-1])"
   ]
  },
  {
   "cell_type": "markdown",
   "id": "a6c032b5",
   "metadata": {
    "id": "a6c032b5"
   },
   "source": [
    "# Slicing\n",
    "Daarnaast is het mogelijk om een gedeelte van de collectie te selecteren door een range op te geven. Let hierbij op dat de het laatste getal tot is, niet tot en met."
   ]
  },
  {
   "cell_type": "code",
   "execution_count": null,
   "id": "db303a0b",
   "metadata": {
    "id": "db303a0b",
    "outputId": "b01fbded-3901-4fb4-8cb0-21dd62e1e024"
   },
   "outputs": [],
   "source": [
    "available_sensors = ['Infrared grayscale left', 'Infrared grayscale right', 'Infrared receiver', 'Ultrasonic']\n",
    "\n",
    "\n",
    "print(available_sensors[1:3])"
   ]
  },
  {
   "cell_type": "markdown",
   "id": "d4eaaab6",
   "metadata": {
    "id": "d4eaaab6"
   },
   "source": [
    "Bij het opgeven van de range kan je stappen aangeven, hiermee zou je dus bepaalde elementen kunnen overslaan in de collectie. "
   ]
  },
  {
   "cell_type": "code",
   "execution_count": null,
   "id": "8655fb8d",
   "metadata": {
    "id": "8655fb8d",
    "outputId": "536cc408-5db6-426e-adca-7ea6e1b677b8"
   },
   "outputs": [],
   "source": [
    "available_sensors = ['Infrared grayscale left', 'Infrared grayscale right', 'Infrared receiver', 'Ultrasonic']\n",
    "\n",
    "print(available_sensors[1:4])\n",
    "print(available_sensors[1:4:2])\n"
   ]
  },
  {
   "cell_type": "markdown",
   "id": "6ac97622",
   "metadata": {
    "id": "6ac97622"
   },
   "source": [
    "Tot slot hoef je geen start/eind index aan te geven om alle elementen langs te gaan."
   ]
  },
  {
   "cell_type": "code",
   "execution_count": null,
   "id": "1b18cf88",
   "metadata": {
    "id": "1b18cf88",
    "outputId": "ec3db49a-390d-4587-fa76-1225356040c9"
   },
   "outputs": [],
   "source": [
    "print(available_sensors[2:])\n",
    "print(available_sensors[:2])\n",
    "print(available_sensors[::2])"
   ]
  },
  {
   "cell_type": "markdown",
   "id": "864ed3af",
   "metadata": {
    "id": "864ed3af"
   },
   "source": [
    "Wat denk je dat er gebeurt als je de volgende code uitvoert?"
   ]
  },
  {
   "cell_type": "code",
   "execution_count": 2,
   "id": "e34b54e7",
   "metadata": {
    "id": "e34b54e7",
    "outputId": "526e0ded-8a06-4ae7-c9eb-0cf0f7840f52"
   },
   "outputs": [
    {
     "name": "stdout",
     "output_type": "stream",
     "text": [
      "neeuqaM\n"
     ]
    },
    {
     "data": {
      "text/plain": [
       "'nohtyP'"
      ]
     },
     "execution_count": 2,
     "metadata": {},
     "output_type": "execute_result"
    }
   ],
   "source": [
    "robot_name = \"Maqueen\"\n",
    "\n",
    "print(robot_name[::-1])\n",
    "\n",
    "\n",
    "name = \"Python\"\n",
    "\n",
    "name[::-1]\n",
    "\n"
   ]
  },
  {
   "cell_type": "markdown",
   "id": "f5ce4479",
   "metadata": {
    "id": "f5ce4479"
   },
   "source": [
    "# Filteren\n",
    "\n",
    "Wanneer je een collectie hebt kan het regelmatig voorkomen dat je niet alle elementen nodig hebt, maar een gefilterde lijst. Dit is mogelijk door de filter functie te gebruiken. Deze functie geeft een iterator terug, die gebruikt kan worden om overheen te lopen."
   ]
  },
  {
   "cell_type": "code",
   "execution_count": null,
   "id": "db199d26",
   "metadata": {
    "id": "db199d26",
    "outputId": "293ec99b-8ad4-41f8-dfad-5c15d8af9f1c"
   },
   "outputs": [],
   "source": [
    "available_sensors = [('Infrared grayscale left', True), \n",
    "                     ('Infrared grayscale right', True), \n",
    "                     (\"Infrared receiver\", False), \n",
    "                     (\"Ultrasonic\", False)]\n",
    "\n",
    "def sensor_is_online(sensor):\n",
    "    return sensor[1]\n",
    "\n",
    "online_sensors = filter(sensor_is_online, available_sensors)\n",
    "\n",
    "print(online_sensors)\n",
    "\n",
    "list(online_sensors)"
   ]
  },
  {
   "cell_type": "markdown",
   "id": "7f63b151",
   "metadata": {
    "id": "7f63b151"
   },
   "source": [
    "## Lambda\n",
    "Net zoals in C# is er een mogelijkheid om lambda's te gebruiken in Python. Maak hierbij gebruik van het keyword lambda."
   ]
  },
  {
   "cell_type": "code",
   "execution_count": null,
   "id": "c0f02e18",
   "metadata": {
    "id": "c0f02e18",
    "outputId": "6e7e0282-0873-4fd8-b7f9-41fcc4d4e693"
   },
   "outputs": [],
   "source": [
    "available_sensors = [('Infrared grayscale left', True), \n",
    "                     ('Infrared grayscale right', True), \n",
    "                     (\"Infrared receiver\", False), \n",
    "                     (\"Ultrasonic\", False)]\n",
    "\n",
    "printer = lambda name, online : print(name + ' is: ' + ('online' if online else 'offline'))\n",
    "\n",
    "for sensor in available_sensors:\n",
    "    printer(sensor[0], sensor[1])"
   ]
  },
  {
   "cell_type": "markdown",
   "id": "52959941",
   "metadata": {},
   "source": [
    "## Mapping\n",
    "Soms wil je een functie uitvoeren op alle waardes uit een collectie, bijvoorbeeld het aanzetten van alle sensoren van een robot, of alle strings omzetten naar hoofdletters. Hiervoor kan je zelf een foreach schrijven, of de functie \"map()\" gebruiken. Dit geeft een iterable terug, op het moment dat je door deze lijst heen loopt zal de functie uitgevoerd worden."
   ]
  },
  {
   "cell_type": "code",
   "execution_count": null,
   "id": "cd39974c",
   "metadata": {},
   "outputs": [],
   "source": [
    "available_sensors = ['Infrared grayscale left', 'Infrared grayscale right', 'Infrared receiver', 'Ultrasonic']\n",
    "\n",
    "upper = map(str.upper, available_sensors)\n",
    "\n",
    "print(upper)\n",
    "\n",
    "print(list(upper))\n",
    "print(available_sensors)"
   ]
  },
  {
   "cell_type": "markdown",
   "id": "2196a822",
   "metadata": {},
   "source": [
    "Wanneer je \"map()\" gebruikt hangt af van de situatie, soms is een ouderwetse for loop beter geschikt, bijvoorbeeld wanneer je if/else statements er in hebt staan."
   ]
  },
  {
   "cell_type": "markdown",
   "id": "toR45obkD1aY",
   "metadata": {
    "id": "toR45obkD1aY"
   },
   "source": [
    "[<< Vorige](./07%20-%20Collecties.ipynb) [Volgende >>](./09%20-%20Opdracht%201%20Holy%20Hand%20Grenade.ipynb) "
   ]
  }
 ],
 "metadata": {
  "colab": {
   "collapsed_sections": [],
   "provenance": []
  },
  "kernelspec": {
   "display_name": "Python 3",
   "language": "python",
   "name": "python3"
  },
  "language_info": {
   "codemirror_mode": {
    "name": "ipython",
    "version": 3
   },
   "file_extension": ".py",
   "mimetype": "text/x-python",
   "name": "python",
   "nbconvert_exporter": "python",
   "pygments_lexer": "ipython3",
   "version": "3.10.8"
  }
 },
 "nbformat": 4,
 "nbformat_minor": 5
}
