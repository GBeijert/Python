{
 "cells": [
  {
   "cell_type": "markdown",
   "id": "eab29332",
   "metadata": {
    "id": "eab29332"
   },
   "source": [
    "<center><img src='Assets\\chipsoft_logo.svg' width=\"200\"/></center>\n",
    "\n",
    "[<< Vorige](./06%20-%20Syntax.ipynb) [Volgende >>](./08%20-%20Slicing%2C%20mapping%20en%20filteren.ipynb) \n",
    "\n",
    "# Collecties\n",
    "\n",
    "In het dagelijks programmeren wordt er gebruik gemaakt van verschillende soorten collecties. De verschillende soorten hebben eigenschappen waardoor deze geschikt is in een bepaalde situatie. Hieronder volgen vier collecties die Python standaard aanbiedt.\n",
    "\n",
    "- [Lists](#Lists)\n",
    "- [Dictionaries](#Dictionaries)\n",
    "- [Tuples](#Tuples)\n",
    "- [Sets](#Sets)\n",
    "\n",
    "## <a name=\"Lists\"></a>Lists\n",
    "De meest basale van de vier collecties, een verzameling van waardes welke dynamisch aangepast kan worden. Geschikt voor situaties waarin je een collectie wil bijhouden, waarbij je vooraf nog niet de juiste lengte weet.\n",
    "\n",
    "### Eigenschappen\n",
    "- Kan verschillende type objecten tegelijkertijd aan\n",
    "- Elementen kunnen toegevoegd en verwijderd worden\n",
    "- Elementen kunnen vervangen worden\n",
    "\n",
    "### Aanmaken en bewerken\n",
    "Een List wordt aangemaakt door middel van blokhaken:"
   ]
  },
  {
   "cell_type": "code",
   "execution_count": null,
   "id": "9ec01c78",
   "metadata": {
    "id": "9ec01c78",
    "outputId": "df4ead69-52a4-46fc-93ca-50a00bbda9bb"
   },
   "outputs": [],
   "source": [
    "my_first_list = [1,2.5,\"three\"]\n",
    "\n",
    "print(my_first_list[1]) #You can use indexing to get an item from the list.\n",
    "\n",
    "my_first_list.append(\"Hallo\") #You can add an item using the append function.\n",
    "\n",
    "my_first_list.pop(1) #You can remove an item using the pop function.\n",
    "\n",
    "print(my_first_list)"
   ]
  },
  {
   "cell_type": "markdown",
   "id": "e6d8ade2",
   "metadata": {
    "id": "e6d8ade2"
   },
   "source": [
    "### Overige belangrijke functies\n",
    "Hieronder volgen een aantal noemenswaardige functies. Wil je meer weten, kijk dan [hier](https://docs.python.org/3/tutorial/datastructures.html)"
   ]
  },
  {
   "cell_type": "code",
   "execution_count": null,
   "id": "9d85e113",
   "metadata": {
    "id": "9d85e113",
    "outputId": "8bf034fd-f6ee-4eb6-e5c3-78d1b3055c8a"
   },
   "outputs": [],
   "source": [
    "my_list = [4,6,1,7]\n",
    "\n",
    "my_list.sort();\n",
    "\n",
    "print(my_list)\n",
    "\n",
    "my_list.reverse()\n",
    "\n",
    "print(my_list)\n",
    "\n",
    "#What do you expect to happen here?\n",
    "my_list = my_list * 3"
   ]
  },
  {
   "cell_type": "markdown",
   "id": "adce6d21",
   "metadata": {
    "id": "adce6d21"
   },
   "source": [
    "## <a name=\"Dictionaries\"></a>Dictionaries\n",
    "\n",
    "Ook een bekende van het ontwikkelen in C# is de dictionary, een collectie uitermate geschikt voor toegang op sleutel. Voor een collectie waar dit niet van belang is kan beter een List gebruikt worden.\n",
    "\n",
    "### Eigenschappen\n",
    "\n",
    "- Kan verschillende type objecten tegelijkertijd aan\n",
    "- Elementen kunnen toegevoegd en verwijderd worden\n",
    "- Elementen kunnen vervangen worden\n",
    "- Sleutels kunnen alleen bestaan uit immutable typen\n",
    "\n",
    "### Aanmaken en bewerken\n",
    "Je maakt een Dictionary met behulp van accolades:"
   ]
  },
  {
   "cell_type": "code",
   "execution_count": null,
   "id": "d0a92a57",
   "metadata": {
    "id": "d0a92a57",
    "outputId": "fa2a1e28-d967-47a8-848c-7ac9e7dac01a"
   },
   "outputs": [],
   "source": [
    "my_first_dictionary = {\"key1\":1, \"key2\":2}\n",
    "\n",
    "print(my_first_dictionary[\"key1\"]) #You can use the key to get an item from the dictionary.\n",
    "\n",
    "my_first_dictionary[\"key3\"] = 3 #You can add by setting a key to a value.\n",
    "\n",
    "my_first_dictionary.pop(\"key2\") #You can remove by using pop with the key instead of index, the pop will return the value.\n",
    "\n",
    "del my_first_dictionary[\"key1\"] #alternatively you can use the del statement to remove an item.\n",
    "\n",
    "print(my_first_dictionary)\n",
    "\n",
    "print(\"key2\" in my_first_dictionary) #check whether key is in dictionary"
   ]
  },
  {
   "cell_type": "markdown",
   "id": "af32c559",
   "metadata": {
    "id": "af32c559"
   },
   "source": [
    "### Overige belangrijke functies\n",
    "Hieronder volgen een aantal noemenswaardige functies. Wil je meer weten, kijk dan [hier](https://docs.python.org/3/tutorial/datastructures.html#dictionaries)"
   ]
  },
  {
   "cell_type": "code",
   "execution_count": null,
   "id": "c9e27bd3",
   "metadata": {
    "id": "c9e27bd3",
    "outputId": "f67c5e7d-f5bd-44d6-c4ed-1eb5b9444aea"
   },
   "outputs": [],
   "source": [
    "new_dictionary = {\"Two\":2, \"One\":1, \"Three\":3}\n",
    "\n",
    "#Loop through dictionary:\n",
    "for k, v in new_dictionary.items():\n",
    "    print(k, v)\n",
    "    \n",
    "sorted(new_dictionary) #what do you expect here?"
   ]
  },
  {
   "cell_type": "markdown",
   "id": "bdfb457e",
   "metadata": {
    "id": "bdfb457e"
   },
   "source": [
    "## <a name=\"Tuples\"></a>Tuples\n",
    "\n",
    "Bij de meeste mensen minder bekend, Tuples. Tuples lijken in de basis op Lists, echter het grootste verschil met een List is, dat deze immutable is. Een tuple kan dus niet gewijzigd worden.\n",
    "\n",
    "\n",
    "### Eigenschappen\n",
    "- Kan verschillende type objecten tegelijkertijd aan\n",
    "- Immutable\n",
    "\n",
    "### Aanmaken\n",
    "Je maakt tuples aan met behulp van haakjes. Wil je meer weten, kijk dan [hier](https://docs.python.org/3/tutorial/datastructures.html#tuples-and-sequences)"
   ]
  },
  {
   "cell_type": "code",
   "execution_count": null,
   "id": "45962177",
   "metadata": {
    "id": "45962177",
    "outputId": "52465bc4-db5b-4868-cee8-3532a1e2aa0f"
   },
   "outputs": [],
   "source": [
    "my_first_tuple = (1,2.5,\"three\")\n",
    "\n",
    "my_first_tuple"
   ]
  },
  {
   "cell_type": "markdown",
   "id": "46094a79",
   "metadata": {
    "id": "46094a79"
   },
   "source": [
    "## <a name=\"Sets\"></a>Sets\n",
    "\n",
    "Een set is een ongesorteerde lijst, er is dus geen manier om de plaats van een object in de lijst vast te stellen. Een set kan geen dubbele waarden bevatten, maar het is wel mogelijk om deze aan een set toe te wijzen. Sets worden dan ook vaak gebruikt om te controleren op dubbele waarden.\n",
    "\n",
    "### Eigenschappen\n",
    "- Kan verschillende type objecten tegelijkertijd aan\n",
    "- Objecten in de Set worden immutable, maar nieuwe items toevoegen of items verwijderen kan wel.\n",
    "- Ongesorteerd\n",
    "- Kan geen dubbele waarden bevatten \n",
    "\n",
    "### Aanmaken en bewerken\n",
    "\n",
    "Je maakt sets aan met behulp van accolades. Wil je meer weten, kijk dan [hier](https://docs.python.org/3/tutorial/datastructures.html#sets)"
   ]
  },
  {
   "cell_type": "code",
   "execution_count": null,
   "id": "PGCKzMtcMItZ",
   "metadata": {
    "id": "PGCKzMtcMItZ"
   },
   "outputs": [],
   "source": [
    "my_first_set = {1, 2.5, 3, \"three\"} #Set aanmaken met curly brackets \n",
    "\n",
    "print(my_first_set)\n",
    "\n",
    "my_second_set = set((1, 2, 3, 4, 5, 5, 5)) #Set aanmaken met methode set(), let op de dubbele haakjes!\n",
    "\n",
    "print(my_second_set) # drie dubbele 5 die hierboven is toegevoegd, zit niet in de set. \n",
    "\n",
    "my_second_set.add(6) # toevoegen \n",
    "\n",
    "print(my_second_set)\n",
    "\n",
    "my_second_set.remove(6) # verwijderen\n",
    "\n",
    "print(my_second_set)\n",
    "\n",
    "my_third_set = set('test') # Wat doet set() methode zonder dubbele haakjes?\n",
    "\n",
    "print(my_third_set)"
   ]
  },
  {
   "cell_type": "markdown",
   "id": "05c4tn-wMH5A",
   "metadata": {
    "id": "05c4tn-wMH5A"
   },
   "source": [
    "[<< Vorige](./06%20-%20Syntax.ipynb) [Volgende >>](./08%20-%20Slicing%2C%20mapping%20en%20filteren.ipynb)"
   ]
  }
 ],
 "metadata": {
  "colab": {
   "collapsed_sections": [],
   "provenance": []
  },
  "kernelspec": {
   "display_name": "Python 3",
   "language": "python",
   "name": "python3"
  },
  "language_info": {
   "codemirror_mode": {
    "name": "ipython",
    "version": 3
   },
   "file_extension": ".py",
   "mimetype": "text/x-python",
   "name": "python",
   "nbconvert_exporter": "python",
   "pygments_lexer": "ipython3",
   "version": "3.10.8"
  }
 },
 "nbformat": 4,
 "nbformat_minor": 5
}
