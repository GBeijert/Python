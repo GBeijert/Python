{
 "cells": [
  {
   "cell_type": "markdown",
   "id": "ec485f43",
   "metadata": {
    "id": "ec485f43"
   },
   "source": [
    "<center><img src='Assets\\chipsoft_logo.svg' width=\"200\"/></center>\n",
    "\n",
    "[<< Vorige](./03%20-%20Literals.ipynb) [Volgende >>](./05%20-%20Input%20_%20output.ipynb)  \n",
    "\n",
    "# Strings\n",
    "\n",
    "Strings zijn in Python een verzameling van Unicode karakters en zijn net als in C# index gebaseerd.\n",
    "\n",
    "Om strings aan te maken kan er gebruik gemaakt worden van zowel enkele quote (') als dubbele quote (\"). Let wel op dat wanneer je enkele quotes in je string gebruikt, je deze moet escapen!"
   ]
  },
  {
   "cell_type": "code",
   "execution_count": null,
   "id": "93823f88",
   "metadata": {
    "id": "93823f88",
    "outputId": "db296d1a-4ff3-4074-a03f-ab14b689572c"
   },
   "outputs": [],
   "source": [
    "#Single quote\n",
    "singe_quote = 'My name is BB-8'\n",
    "escaped = ', my antenna\\'s the best ';\n",
    "\n",
    "#Double quote\n",
    "double_quote = \"in the galaxy!\"\n",
    "\n",
    "print(singe_quote + escaped + double_quote)"
   ]
  },
  {
   "cell_type": "markdown",
   "id": "96d40a79",
   "metadata": {
    "id": "96d40a79"
   },
   "source": [
    "In het geval dat je in een keer een string over meerdere regels wil aanmaken kan dat door drie keer een enkele of dubbele quote te gebruiken."
   ]
  },
  {
   "cell_type": "code",
   "execution_count": null,
   "id": "c64c006c",
   "metadata": {
    "id": "c64c006c"
   },
   "outputs": [],
   "source": [
    "first = '''\n",
    "Command: Read distance\n",
    "Answer: 40 cm\n",
    "Command: Drive forwards\n",
    "'''\n",
    "\n",
    "second = \"\"\"\n",
    "Command: Read distance\n",
    "Answer: 5 cm\n",
    "Command: Stop movement\n",
    "\"\"\""
   ]
  },
  {
   "cell_type": "markdown",
   "id": "8b06911b",
   "metadata": {
    "id": "8b06911b"
   },
   "source": [
    "Tot slot kan je strings ook aanmaken door deze te herhalen, bijvoorbeeld:"
   ]
  },
  {
   "cell_type": "code",
   "execution_count": null,
   "id": "310d1253",
   "metadata": {
    "id": "310d1253",
    "outputId": "7d21cba5-6f7a-409d-be4f-8ec30215bf01"
   },
   "outputs": [],
   "source": [
    "print(\"A\" * 10)"
   ]
  },
  {
   "cell_type": "markdown",
   "id": "d17ca605",
   "metadata": {
    "id": "d17ca605"
   },
   "source": [
    "Net zoals in C# zijn strings in Python immutable, dit houdt in dat zodra een string aangemaakt is, deze niet meer aangepast kan worden. Bij elke aanpassing aan een string zal er een nieuwe string met de correcte inhoud aangemaakt worden.\n",
    "\n",
    "Het is bijvoorbeeld niet mogelijk om een gedeelte van de string te vervangen door een andere waarde."
   ]
  },
  {
   "cell_type": "code",
   "execution_count": null,
   "id": "b88327ee",
   "metadata": {},
   "outputs": [],
   "source": [
    "command = 'Set-Speed: 9'\n",
    "\n",
    "command[11] = '3'"
   ]
  },
  {
   "cell_type": "code",
   "execution_count": null,
   "id": "cc0b9dba",
   "metadata": {
    "id": "cc0b9dba"
   },
   "outputs": [],
   "source": [
    "command = 'Set-Speed: 9'\n",
    "\n",
    "#to do this, use the replace function. This will return a new string:\n",
    "new_command = command.replace('9', '3')\n",
    "\n",
    "print(command)\n",
    "print(new_command)"
   ]
  },
  {
   "cell_type": "markdown",
   "id": "8386b109",
   "metadata": {
    "id": "8386b109"
   },
   "source": [
    "## Ingebouwde functies\n",
    "Er volgen een aantal ingebouwde functies van de string, meer informatie kan gevonden worden op de website van [Python](https://docs.python.org/3/library/string.html)"
   ]
  },
  {
   "cell_type": "code",
   "execution_count": null,
   "id": "423a9716",
   "metadata": {
    "colab": {
     "base_uri": "https://localhost:8080/"
    },
    "executionInfo": {
     "elapsed": 338,
     "status": "ok",
     "timestamp": 1662557945056,
     "user": {
      "displayName": "Nathan van Vliet",
      "userId": "17037830391621297258"
     },
     "user_tz": -120
    },
    "id": "423a9716",
    "outputId": "5e5bb67b-618e-4626-ac2d-abdac678aeae"
   },
   "outputs": [],
   "source": [
    "command = \"Set-Speed: 9\"\n",
    "\n",
    "#Make uppercase\n",
    "print(command.upper())\n",
    "\n",
    "#make lowercase\n",
    "print(command.lower())\n",
    "\n",
    "#Make first character uppercase\n",
    "print(command.capitalize())\n",
    "\n",
    "#split\n",
    "print(command.split(':'))\n",
    "\n",
    "#Startswith\n",
    "print(command.startswith('S'))\n",
    "\n",
    "#index\n",
    "print(command.index(':'))\n",
    "\n",
    "#check if needle is in string\n",
    "print('speed' in command)\n",
    "\n",
    "print(' Get-Speed  '.strip())\n",
    "\n"
   ]
  },
  {
   "cell_type": "markdown",
   "id": "e5614e1a",
   "metadata": {
    "id": "e5614e1a"
   },
   "source": [
    "## Format\n",
    "Er zijn een aantal verschillende methodes waarmee je een string.Format kan uitvoeren in Python."
   ]
  },
  {
   "cell_type": "code",
   "execution_count": null,
   "id": "eb5076a4",
   "metadata": {
    "id": "eb5076a4"
   },
   "outputs": [],
   "source": [
    "sensor_name = 'Ultrasonic'\n",
    "reading = '30'\n",
    "\n",
    "#Named indexes\n",
    "print('The reading of sensor {sensor} is {reading}'.format(reading = reading, sensor = sensor_name))\n",
    "\n",
    "#Numbered indexes\n",
    "print('The reading of sensor {0} is {1}'.format(sensor_name, reading))\n",
    "\n",
    "#Without named or numbered indexing, you have to pass the parameters in the right order.\n",
    "print('The reading of sensor {} is {}'.format(sensor_name, reading))\n",
    "\n"
   ]
  },
  {
   "cell_type": "markdown",
   "id": "DlBZEACDBW_n",
   "metadata": {
    "id": "DlBZEACDBW_n"
   },
   "source": [
    "[<< Vorige](./03%20-%20Literals.ipynb) [Volgende >>](./05%20-%20Input%20_%20output.ipynb)  "
   ]
  }
 ],
 "metadata": {
  "colab": {
   "collapsed_sections": [],
   "provenance": []
  },
  "kernelspec": {
   "display_name": "Python 3",
   "language": "python",
   "name": "python3"
  },
  "language_info": {
   "codemirror_mode": {
    "name": "ipython",
    "version": 3
   },
   "file_extension": ".py",
   "mimetype": "text/x-python",
   "name": "python",
   "nbconvert_exporter": "python",
   "pygments_lexer": "ipython3",
   "version": "3.10.8"
  }
 },
 "nbformat": 4,
 "nbformat_minor": 5
}
