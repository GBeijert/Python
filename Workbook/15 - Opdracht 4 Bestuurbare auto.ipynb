{
 "cells": [
  {
   "cell_type": "markdown",
   "id": "1030d4b7",
   "metadata": {
    "id": "1030d4b7"
   },
   "source": [
    "<center><img src='Assets\\chipsoft_logo.svg' width=\"200\"/></center>\n",
    "\n",
    "[<< Vorige](./14%20-%20Opdracht%203%20Autonoom%20rijden.ipynb) [Volgende >>](./16%20-%20Voor%20thuis.ipynb)\n",
    "\n",
    "# Opdracht 4: Bestuurbare auto\n",
    "\n",
    "Met opdracht drie hebben jullie kennis gemaakt met het laten rijden van de robot. De volgende stap is het bestuurbaar maken van deze robot met een tweede Micro:bit.\n",
    "\n",
    "## Wat ga je gebruiken?\n",
    "- Twee Micro:bit bordjes\n",
    "- Maqueen robot\n",
    "- De radio functionaliteit van Micro:bit\n",
    "- Ontwikkelomgeving: https://python.microbit.org/v/beta\n",
    "\n",
    "## Wat gaan jullie doen?\n",
    "Jullie gaan communicatie opzetten tussen twee Micro:bit bordjes, één bordje gaat dienen als ontvanger en de ander als afstandsbediening.  \n",
    "\n",
    "**Afstandsbediening**  \n",
    "De afstandsbediening gaat gebruik maken van de gyroscoop om input te verzamelen van de gebruiker. Kantelt het bordje naar voren, zal dit een teken zijn dat de robot naar voren moet rijden. Kantelt het bordje naar achter, zal deze achteruit moeten rijden.  \n",
    "\n",
    "- Input opvragen\n",
    "- Input omzetten naar commando\n",
    "- Commando versturen naar ontvanger.<br />  \n",
    "\n",
    "**Ontvanger**  \n",
    "De ontvanger gaat de commando's van de afstandsbediening ontvangen en omzetten naar een bewegende robot.  \n",
    "\n",
    "- Commando ontvangen\n",
    "- Commando herkennen\n",
    "- Command uitvoeren\n",
    "\n",
    "> <span style=\"color:red\">**LET OP! Spreek met de andere cursisten af welke frequentie jullie gaan gebruiken, anders storen jullie elkaar!**</span>\n",
    "\n",
    "## Bonus\n",
    "Ben je op tijd klaar?\n",
    "\n",
    "- Toon de rijrichting op de controller\n",
    "- Zorg ervoor dat de robot ook schuin vooruit en achteruit kan rijden.\n",
    "- Verdiep je in de audio library en zorg ervoor dat de auto toetert via een knop op de afstandsbediening.\n",
    "\n",
    "[<< Vorige](./14%20-%20Opdracht%203%20Autonoom%20rijden.ipynb) [Volgende >>](./16%20-%20Voor%20thuis.ipynb)"
   ]
  },
  {
   "cell_type": "code",
   "execution_count": null,
   "id": "3564a2d4",
   "metadata": {},
   "outputs": [],
   "source": []
  }
 ],
 "metadata": {
  "colab": {
   "collapsed_sections": [],
   "provenance": []
  },
  "kernelspec": {
   "display_name": "Python 3",
   "language": "python",
   "name": "python3"
  },
  "language_info": {
   "codemirror_mode": {
    "name": "ipython",
    "version": 3
   },
   "file_extension": ".py",
   "mimetype": "text/x-python",
   "name": "python",
   "nbconvert_exporter": "python",
   "pygments_lexer": "ipython3",
   "version": "3.8.8"
  }
 },
 "nbformat": 4,
 "nbformat_minor": 5
}
