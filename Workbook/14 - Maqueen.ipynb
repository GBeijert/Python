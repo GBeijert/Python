{
 "cells": [
  {
   "cell_type": "markdown",
   "id": "6f5166cd",
   "metadata": {
    "id": "6f5166cd"
   },
   "source": [
    "<center><img src='Assets\\chipsoft_logo.svg' width=\"200\"/></center>\n",
    "\n",
    "[<< Vorige](./13%20-%20Opdracht%202%20Migrating%20Swallow.ipynb) [Volgende >>](./15%20-%20Opdracht%203%20Autonoom%20rijden.ipynb)\n",
    "\n",
    "# Maqueen\n",
    "Maqueen is een kleine robot die je kan aansturen met behulp van de Micro:bit. Je kan je programma schrijven en flashen op je Micro:bit, waardoor je de volledige functionaliteit van de robot tot je beschikking hebt.\n",
    "<br /><br />\n",
    "Denk hierbij aan het aansturen van de wielen, het gebruiken van de ultrasone sensor en zelfs sensoren om te kijken of je op een lijn rijd.\n",
    "\n",
    "<img src='Assets\\Maqueen.png'/>\n",
    "\n",
    "## Motor\n",
    "Maqueen bevat twee motoren waarmee je hem kan laten rijden. Deze motoren kunnen op verschillende snelheden draaien, waardoor je dus ook kan sturen. Als de rechtermotor harder draait dan links, zal de robot naar links gaan.\n",
    "\n",
    "De motor wordt aangestuurd door een byte array naar het juiste adres te sturen via de [i2c](https://en.wikipedia.org/wiki/I%C2%B2C) bus.\n",
    "\n",
    "<img src='Assets\\Motor.png'/>\n",
    "\n",
    "## Led's\n",
    "Maqueen bevat een aantal led's, twee op de voorkant en een viertal RGB led's aan de onderkant.\n",
    "\n",
    "De led's aan de voorkant zijn eenvoudig aan en uit te zetten.\n",
    "\n",
    "<img src='Assets\\basic_led.png'/>\n",
    "\n",
    "De led's aan de onderkant zijn iets meer werk om aan te zetten.\n",
    "\n",
    "<img src='Assets\\neopixel.png'/>\n",
    "\n",
    "## Ultrasonic sensor\n",
    "Met behulp van de ultrasone sensor kan je afstand meten van een object tot de robot. Dit werkt als volgt:\n",
    "\n",
    "<img src='Assets\\hc-sr04.png'/>\n",
    "\n",
    "Er wordt een geluidssignaal uitgestuurd via de verzender, als het signaal afketst op een voorwerp komt deze terug via de ontvanger. De tijd tussen het versturen en het ontvangen geeft aan wat de afstand is tussen de robot en het voorwerp.\n",
    "<br /><br />\n",
    "\n",
    "De ultasone sensor wordt aangesloten op de socket van de Maqueen robot. Deze zorgt ervoor dat de sensor stroom krijgt en dat deze uitgelezen kan worden. Je geeft opdracht om een signaal uit te sturen (Trigger pin aanzetten), en je leest de response time uit via de Echo pin.\n",
    "\n",
    "Om de afstand in centimeters te krijgen dient er een berekening plaats te vinden.\n",
    "\n",
    "**Afstand tot een object:**\n",
    "Gemeten tijd / 2 * snelheid van geluid in de lucht.\n",
    "\n",
    "**Snelheid van geluid in de lucht:**\n",
    "343 meter per seconde.\n",
    "\n",
    "<img src='Assets\\Ultrasonic.png'/>\n",
    "\n",
    "Voor meer informatie zie [osoyoo.com](https://osoyoo.com/2018/09/18/micro-bit-lesson-using-the-ultrasonic-module/)\n",
    "\n",
    "[<< Vorige](./12%20-%20Opdracht%202%20Migrating%20Swallow.ipynb) [Volgende >>](./14%20-%20Opdracht%203%20Autonoom%20rijden.ipynb)"
   ]
  },
  {
   "cell_type": "code",
   "execution_count": null,
   "id": "6b3b54b9",
   "metadata": {},
   "outputs": [],
   "source": []
  }
 ],
 "metadata": {
  "colab": {
   "collapsed_sections": [],
   "provenance": []
  },
  "kernelspec": {
   "display_name": "Python 3 (ipykernel)",
   "language": "python",
   "name": "python3"
  },
  "language_info": {
   "codemirror_mode": {
    "name": "ipython",
    "version": 3
   },
   "file_extension": ".py",
   "mimetype": "text/x-python",
   "name": "python",
   "nbconvert_exporter": "python",
   "pygments_lexer": "ipython3",
   "version": "3.10.8"
  }
 },
 "nbformat": 4,
 "nbformat_minor": 5
}
