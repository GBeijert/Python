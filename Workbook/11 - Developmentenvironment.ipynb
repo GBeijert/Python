{
 "cells": [
  {
   "cell_type": "markdown",
   "id": "06242639",
   "metadata": {
    "id": "06242639"
   },
   "source": [
    "<center><img src='Assets\\chipsoft_logo.svg' width=\"200\"/></center>\n",
    "\n",
    "[<< Vorige](./10%20-%20Microbit.ipynb) [Volgende >>](./12%20-%20Opdracht%202%20Migrating%20Swallow.ipynb)\n",
    "\n",
    "Om te ontwikkelen met de Micro:bit heb je allerlei keuzes, van MU en Microsoft Visual Studio Code tot online editors. De online editors die onderzocht zijn, zijn compleet en eenvoudig in gebruik.\n",
    "\n",
    "# Microft MakeCode\n",
    "\n",
    "Microsoft MakeCode is een editor waarbij er via blokken (drag and drop), javascript en Python geprogrammeerd kan worden. Vooral door het gebruik van het de blokken is deze editor zeer geschikt voor kinderen. Wanneer de kinderen wat meer uitdaging zoeken kan het Python tabblad gebruikt worden om kennis te maken met Python.\n",
    "\n",
    "<img src='Assets\\editor.png'/>\n",
    "\n",
    "https://makecode.microbit.org/\n",
    "\n",
    "# Micro:Bit editor\n",
    "Micro:Bit heeft zelf ook een editor uitgebracht, waarbij MicroPython gebruik kan worden om te programmeren. Doordat alle libraries die wij bij deze cursus gebruiken aangesproken kunnen worden, is deze zeer geschikt om te gebruiken bij de verdere kennismaking met Python.\n",
    "\n",
    "<img src='Assets\\editor_new.png'/>\n",
    "\n",
    "A. Code editor, zoals je gewend bent.<br />\n",
    "B. Een bibliotheek van voorbeelden hoe de Micro:Bit gebruikt kan worden.<br />\n",
    "C. Een overzicht van de beschikbare API's.<br />\n",
    "D. De simulator die de uitvoer van je applicatie laat zien. De verschillende input's van de Micro:Bit kunnen gesimuleerd worden d.m.v. de knoppen op het bordje en de input er onder. \n",
    "\n",
    "https://python.microbit.org/v/beta\n",
    "\n",
    "## Micro:Bit flashen\n",
    "Wanneer je je applicatie gemaakt hebt, kan je deze op twee manieren op je Micro:Bit krijgen.\n",
    "\n",
    "### Verkenner\n",
    "1. Sluit de Micro:Bit aan op de computer\n",
    "2. Download de Hex en kopieer deze naar je Micro:Bit via verkenner\n",
    "3. Het apparaat gaat de applicatie installeren\n",
    "\n",
    "### Koppelen met browser\n",
    "1. Sluit de micro:Bit aan op de computer\n",
    "2. Koppel de microbit, door naast \"Send to Micro:Bit\" op de drie puntjes te klikken. Klik daarna op Connect en selecteer je Micro:Bit. (Bij MakeCode moet je dit doen via het tandwieltje rechtsbovenin)\n",
    "3. Druk op \"Send to Micro:Bit\", het apparaat wordt automatisch geflasht.\n",
    "\n",
    "\n",
    "[<< Vorige](./10%20-%20Microbit.ipynb) [Volgende >>](./12%20-%20Opdracht%202%20Migrating%20Swallow.ipynb)"
   ]
  },
  {
   "cell_type": "code",
   "execution_count": null,
   "id": "d8f6ab83",
   "metadata": {},
   "outputs": [],
   "source": []
  }
 ],
 "metadata": {
  "colab": {
   "collapsed_sections": [],
   "provenance": []
  },
  "kernelspec": {
   "display_name": "Python 3",
   "language": "python",
   "name": "python3"
  },
  "language_info": {
   "codemirror_mode": {
    "name": "ipython",
    "version": 3
   },
   "file_extension": ".py",
   "mimetype": "text/x-python",
   "name": "python",
   "nbconvert_exporter": "python",
   "pygments_lexer": "ipython3",
   "version": "3.8.8"
  }
 },
 "nbformat": 4,
 "nbformat_minor": 5
}
