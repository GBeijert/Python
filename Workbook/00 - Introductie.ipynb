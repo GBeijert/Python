{
 "cells": [
  {
   "cell_type": "markdown",
   "id": "53bef96f",
   "metadata": {
    "id": "53bef96f"
   },
   "source": [
    "<center><img src='Assets\\chipsoft_logo.svg' width=\"200\"/></center>\n",
    "\n",
    "# Introductie Python\n",
    "\n",
    "Deze cursus laat je kennis maken met Python, het geeft je basis kennis om vervolgens zelf de vaardigheden verder te ontwikkelen. Dit zal voornamelijk gedaan worden door een stuk theorie te krijgen en daarna met leuke opdrachten je kennis te testen en je uit te dagen.\n",
    "\n",
    "## Leerdoelen\n",
    "\n",
    "Aan het eind van deze cursus:\n",
    "\n",
    "- Heb je basiskennis Python\n",
    "- Heb je een basiskennis robotica\n",
    "- Ben je in staat een kleine applicatie te maken in Python\n",
    "- Ben je in staat een robot autonoom te laten rijden\n",
    "\n",
    "## Hoofdstukken\n",
    "\n",
    "\n",
    "1. [Wat is Python](./01%20-%20Wat%20is%20python.ipynb)\n",
    "2. [Variables](./02%20-%20Variables.ipynb)\n",
    "3. [Literals](./03%20-%20Literals.ipynb)\n",
    "4. [Strings](./04%20-%20Strings.ipynb)\n",
    "5. [Input & Output](./05%20-%20Input%20_%20output.ipynb)\n",
    "6. [Syntax](./06%20-%20Syntax.ipynb)\n",
    "7. [Collections](./07%20-%20Collecties.ipynb)\n",
    "8. [Slicing & Mapping](./08%20-%20Slicing%2C%20mapping%20en%20filteren.ipynb)\n",
    "9. [Opdracht 1: Holy Hand Grenade](./09%20-%20Opdracht%201%20Holy%20Hand%20Grenade.ipynb)\n",
    "10. [Micro:Bit](./10%20-%20Microbit.ipynb)\n",
    "11. [Development environment](./11%20-%20Developmentenvironment.ipynb)\n",
    "12. [Opdracht 2: Migrating Swallow](./12%20-%20Opdracht%202%20Migrating%20Swallow.ipynb)\n",
    "13. [Maqueen](./13%20-%20Maqueen.ipynb)\n",
    "14. [Opdracht 3: Autonoom rijden](./14%20-%20Opdracht%203%20Autonoom%20rijden.ipynb)\n",
    "15. [Opdracht 4: Afstandsbestuurbare auto](./15%20-%20Opdracht%204%20Bestuurbare%20auto.ipynb)\n",
    "16. [Voor thuis](./16%20-%20Voor%20thuis.ipynb)\n",
    "16. [F.A.Q.](./17%20-%20Frequently%20asked%20questions.ipynb)\n",
    "\n",
    "Laten we [beginnen](./01%20-%20Wat%20is%20python.ipynb)!"
   ]
  },
  {
   "cell_type": "code",
   "execution_count": null,
   "id": "0bf701ed",
   "metadata": {},
   "outputs": [],
   "source": []
  }
 ],
 "metadata": {
  "colab": {
   "collapsed_sections": [],
   "provenance": [],
   "toc_visible": true
  },
  "kernelspec": {
   "display_name": "Python 3",
   "language": "python",
   "name": "python3"
  },
  "language_info": {
   "codemirror_mode": {
    "name": "ipython",
    "version": 3
   },
   "file_extension": ".py",
   "mimetype": "text/x-python",
   "name": "python",
   "nbconvert_exporter": "python",
   "pygments_lexer": "ipython3",
   "version": "3.8.8"
  }
 },
 "nbformat": 4,
 "nbformat_minor": 5
}
