{
 "cells": [
  {
   "cell_type": "markdown",
   "id": "5abe6f08",
   "metadata": {
    "id": "5abe6f08"
   },
   "source": [
    "<center><img src='Assets\\chipsoft_logo.svg' width=\"200\"/></center>\n",
    "\n",
    "[<< Vorige](./12%20-%20Developmentenvironment.ipynb) [Volgende >>](./14%20-%20Maqueen.ipynb)\n",
    "\n",
    "# Opdracht: Migrating Swallow\n",
    "\n",
    "Met deze opdracht gaan jullie kennis maken met het ontwikkelbordje Micro:bit. \n",
    "\n",
    "## Wat ga je gebruiken?\n",
    "- Micro:bit bordje\n",
    "    - gyroscoop\n",
    "    - Led's\n",
    "    - Knoppen\n",
    "    - https://python.microbit.org/v/3 \n",
    "\n",
    "## Wat gaan jullie doen?\n",
    "Jullie gaan met behulp van de gyroscoop en de led's op het Micro:bit bordje het spel [Flappy bird](https://flappybird.io/) maken.\n",
    "\n",
    "Binnen deze opdracht ga je een aantal aspecten combineren om een simpel spelletje te maken;\n",
    "- Kopieer onderstaande code naar de online ontwikkelomgeving\n",
    "- Lees de beweging van de de gyroscoop uit, wanneer het bordje naar voren gekanteld wordt gaat de vogel omhoog, wanneer het bordje naar achteren gekanteld wordt gaat de vogel omlaag.\n",
    "- De bewegende muren krijg je van ons cadeau\n",
    "- Detecteer of de vogel met een muur in botsing komt\n",
    "- Toon de vogel en muren op de led array op de Micro:bit\n",
    "\n",
    "\n",
    "## Bonus\n",
    "Ben je snel klaar? \n",
    "- Zorg ervoor dat het spel pas start wanneer er op de A knop gedrukt wordt\n",
    "- Houdt de score bij, zodra de gebruiker afgaat toon je de score.\n"
   ]
  },
  {
   "cell_type": "code",
   "execution_count": null,
   "id": "064e8ce2",
   "metadata": {},
   "outputs": [],
   "source": [
    "import random\n",
    "from microbit import *\n",
    "\n",
    "# Globals \n",
    "wall_x = 4 \n",
    "gap = 0\n",
    "\n",
    "# Methods \n",
    "def check_player_movement():\n",
    "    pass\n",
    "\n",
    "def move_wall():\n",
    "    global gap, wall_x\n",
    "\n",
    "    display.clear()\n",
    "    ## Don't forget!\n",
    "    #redraw bird    \n",
    "        \n",
    "    if(wall_x == 0):\n",
    "        wall_x = 4\n",
    "        gap = random.randint(0,4)\n",
    "    else:\n",
    "        wall_x -= 1\n",
    "    \n",
    "    for i in range(5):\n",
    "        if(i != gap):\n",
    "            display.set_pixel(wall_x, i, 9)\n",
    "\n",
    "def check_collision():\n",
    "    pass\n",
    "\n",
    "while True:\n",
    "    check_player_movement()\n",
    "    move_wall()\n",
    "    check_collision()\n",
    "\n",
    "    sleep(250)"
   ]
  },
  {
   "cell_type": "markdown",
   "id": "949f4f6b",
   "metadata": {},
   "source": [
    "[<< Vorige](./11%20-%20Developmentenvironment.ipynb) [Volgende >>](./13%20-%20Maqueen.ipynb)"
   ]
  }
 ],
 "metadata": {
  "celltoolbar": "Raw-celnotatie",
  "colab": {
   "collapsed_sections": [],
   "provenance": []
  },
  "kernelspec": {
   "display_name": "Python 3 (ipykernel)",
   "language": "python",
   "name": "python3"
  },
  "language_info": {
   "codemirror_mode": {
    "name": "ipython",
    "version": 3
   },
   "file_extension": ".py",
   "mimetype": "text/x-python",
   "name": "python",
   "nbconvert_exporter": "python",
   "pygments_lexer": "ipython3",
   "version": "3.10.8"
  }
 },
 "nbformat": 4,
 "nbformat_minor": 5
}
