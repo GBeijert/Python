{
 "cells": [
  {
   "cell_type": "markdown",
   "id": "088715cb",
   "metadata": {
    "id": "088715cb"
   },
   "source": [
    "<center><img src='Assets\\chipsoft_logo.svg' width=\"200\"/></center>\n",
    "\n",
    "[<< Vorige](./01%20-%20Wat%20is%20python.ipynb) [Volgende >>](./03%20-%20Literals.ipynb)\n",
    "\n",
    "# Variabelen\n",
    "\n",
    "Python maakt gebruik van Dynamic Typing, oftewel variabelen zonder het toekennen van het datatype. In tegenstelling tot C# waar je het datatype voor de variabele zet, hoeft dat bij Python dus niet.\n",
    "\n",
    "C#: int speed = 30;\n",
    "\n",
    "Python:"
   ]
  },
  {
   "cell_type": "code",
   "execution_count": null,
   "id": "7e4f2e2f",
   "metadata": {
    "id": "7e4f2e2f",
    "outputId": "64e48f0b-2c14-438a-d934-76f37369961c"
   },
   "outputs": [],
   "source": [
    "speed = 30\n",
    "\n",
    "speed"
   ]
  },
  {
   "cell_type": "markdown",
   "id": "7095fecf",
   "metadata": {
    "id": "7095fecf"
   },
   "source": [
    "Het gebruik van Dynamic Typing kan tot onverwachte bugs leiden. Het is mogelijk om verschillende soorten datatypes toe te kennen aan dezelfde variabele. Het onderstaande is mogelijk:"
   ]
  },
  {
   "cell_type": "code",
   "execution_count": null,
   "id": "7c1310bb",
   "metadata": {
    "id": "7c1310bb",
    "outputId": "ab51cc65-c820-47b6-e434-a94147fc1bb5"
   },
   "outputs": [],
   "source": [
    "speed = 31\n",
    "\n",
    "speed = 'Stopped'\n",
    "\n",
    "speed"
   ]
  },
  {
   "cell_type": "markdown",
   "id": "ac3ac852",
   "metadata": {
    "id": "ac3ac852"
   },
   "source": [
    "Het is mogelijk om op te vragen wat het type van een variabele is door gebruik te maken van de functie type()"
   ]
  },
  {
   "cell_type": "code",
   "execution_count": null,
   "id": "faf3b61d",
   "metadata": {
    "id": "faf3b61d",
    "outputId": "4a0aff5e-cb1e-4b84-efab-b3a6fe684de7"
   },
   "outputs": [],
   "source": [
    "speed = 31\n",
    "\n",
    "type(speed)"
   ]
  },
  {
   "cell_type": "code",
   "execution_count": null,
   "id": "550570fc",
   "metadata": {
    "id": "550570fc",
    "outputId": "db3a9145-bbbe-4c33-9406-45be492a1cf5"
   },
   "outputs": [],
   "source": [
    "speed = 'Test'\n",
    "\n",
    "type(speed)"
   ]
  },
  {
   "cell_type": "markdown",
   "id": "986c7be7",
   "metadata": {
    "id": "986c7be7"
   },
   "source": [
    "## Naming guideline\n",
    "Net zoals bij alle talen heb je bij Python een aantal regels om je aan te houden qua naamgeving van variabelen.\n",
    "\n",
    "**Namen kunnen niet:**\n",
    "- beginnen met een getal\n",
    "- spaties bevatten\n",
    "- deze karakters bevatten\n",
    ":'\",<>/?|\\!@#%^&*~-+\n",
    "\n",
    "**Gebruik geen**\n",
    "- ingebouwde keywords zoals list en str\n",
    "- Enkele karakters maar vooral karakters als l, O en I\n",
    "\n",
    "**Gebruik**\n",
    "- lowercase met underscores\n",
    "\n",
    "Kijk [hier](https://realpython.com/python-pep8/) voor de volledige naming guideline voor Python.\n",
    "\n",
    "\n"
   ]
  },
  {
   "cell_type": "code",
   "execution_count": null,
   "id": "9d19027a",
   "metadata": {
    "id": "9d19027a",
    "outputId": "3673185f-6cb0-4426-9bee-6168ffa462d5"
   },
   "outputs": [],
   "source": [
    "0invalidSyntaxForVariable = 'A'"
   ]
  },
  {
   "cell_type": "code",
   "execution_count": null,
   "id": "67ccf0d0",
   "metadata": {
    "id": "67ccf0d0"
   },
   "outputs": [],
   "source": [
    "invalid syntax forVariable = 'A'"
   ]
  },
  {
   "cell_type": "code",
   "execution_count": null,
   "id": "802aefb7",
   "metadata": {
    "id": "802aefb7"
   },
   "outputs": [],
   "source": [
    "invalid@syntax = 'A'"
   ]
  },
  {
   "cell_type": "code",
   "execution_count": null,
   "id": "3d5758fe",
   "metadata": {
    "id": "3d5758fe"
   },
   "outputs": [],
   "source": [
    "valid_syntax = 'A'"
   ]
  },
  {
   "cell_type": "markdown",
   "id": "30sHs_lW5LCm",
   "metadata": {
    "id": "30sHs_lW5LCm"
   },
   "source": [
    "[<< Vorige](./01%20-%20Wat%20is%20python.ipynb) [Volgende >>](./03%20-%20Literals.ipynb)"
   ]
  }
 ],
 "metadata": {
  "colab": {
   "collapsed_sections": [],
   "provenance": []
  },
  "kernelspec": {
   "display_name": "Python 3",
   "language": "python",
   "name": "python3"
  },
  "language_info": {
   "codemirror_mode": {
    "name": "ipython",
    "version": 3
   },
   "file_extension": ".py",
   "mimetype": "text/x-python",
   "name": "python",
   "nbconvert_exporter": "python",
   "pygments_lexer": "ipython3",
   "version": "3.8.8"
  }
 },
 "nbformat": 4,
 "nbformat_minor": 5
}
