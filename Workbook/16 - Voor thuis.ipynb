{
 "cells": [
  {
   "cell_type": "markdown",
   "id": "14b34112",
   "metadata": {
    "id": "14b34112"
   },
   "source": [
    "<center><img src='Assets\\chipsoft_logo.svg' width=\"200\"/></center>\n",
    "\n",
    "[<< Vorige](./15%20-%20Opdracht%204%20Voor%20thuis.ipynb) [Volgende >>](./17%20-%20Frequently%20asked%20questions.ipynb)\n",
    "\n",
    "\n",
    "# Thuis\n",
    "Je hebt inmiddels een basis kennis van Python, Micro:Bit en Maqueen. Je hebt het Micro:Bit bordje mee naar huis gekregen en je wil nu verder. Dankzij de enorme uitbreidingsmogelijkheden van de Micro:Bit kan je je fantasie de vrije loop laten.\n",
    "\n",
    "## Maqueen\n",
    "De robot die we gebruikt hebben tijdens de opleiding kan aangeschaft worden bij ondermeer: [Kiwi-Electronics](https://www.kiwi-electronics.nl/nl/micromaqueen-lite-voor-de-microbit-4052)\n",
    "<br />\n",
    "Deze robot kan ook gebruikt worden met andere applicaties dan de online makecode IDE. Hier zijn tutorials voor te vinden op youtube.\n",
    "    \n",
    "## API\n",
    "- MicroPython: https://microbit-micropython.readthedocs.io/en/latest/\n",
    "- MakeCode Python: https://support.microbit.org/support/solutions/articles/19000111744-makecode-python-and-micropython\n",
    "\n",
    "[<< Vorige](./15%20-%20Opdracht%204%20Bestuurbare%20auto.ipynb) [Volgende >>](./17%20-%20Frequently%20asked%20questions.ipynb)"
   ]
  }
 ],
 "metadata": {
  "colab": {
   "collapsed_sections": [],
   "provenance": []
  },
  "kernelspec": {
   "display_name": "Python 3",
   "language": "python",
   "name": "python3"
  },
  "language_info": {
   "codemirror_mode": {
    "name": "ipython",
    "version": 3
   },
   "file_extension": ".py",
   "mimetype": "text/x-python",
   "name": "python",
   "nbconvert_exporter": "python",
   "pygments_lexer": "ipython3",
   "version": "3.8.8"
  }
 },
 "nbformat": 4,
 "nbformat_minor": 5
}
