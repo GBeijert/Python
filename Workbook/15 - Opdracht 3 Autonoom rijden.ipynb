{
 "cells": [
  {
   "cell_type": "markdown",
   "id": "177297c1",
   "metadata": {
    "id": "177297c1"
   },
   "source": [
    "<center><img src='Assets\\chipsoft_logo.svg' width=\"200\"/></center>\n",
    "\n",
    "[<< Vorige](./14%20-%20Maqueen.ipynb) [Volgende >>](./16%20-%20Opdracht%204%20Bestuurbare%20auto.ipynb)\n",
    "\n",
    "\n",
    "# Opdracht 3: Autonoom rijden\n",
    "\n",
    "Jullie gaan kennis maken met de maqueen robot en deze autonoom laten rijden\n",
    "\n",
    "## Wat ga je gebruiken?\n",
    "\n",
    "- Micro:bit\n",
    "- Maqueen robot\n",
    "    - Motoren\n",
    "    - Leds\n",
    "    - Afstandssensor \n",
    "- Ontwikkelomgeving: https://python.microbit.org/v/beta\n",
    "\n",
    "## Wat gaan jullie doen?\n",
    "Jullie gaan een aantal aspecten combineren om de robot te laten rijden en te laten stoppen op het moment dat er een obstakel gedetecteerd wordt.\n",
    "\n",
    "1. Maak gebruik van de afstandssensor gebruiken om obstakels te detecteren. Maak onderscheid tussen:\n",
    "    - Vrij rijden (Motoren op volle snelheid)\n",
    "    - Er komt een obstakel aan (Motoren op halve kracht)\n",
    "    - Obstakel komt te dicht bij (Motoren stoppen)\n",
    "2. Bepaal de snelheid van de motoren op basis van de afstand tot de obstakel\n",
    "3. Geef de leds een kleur op basis van afstand tot obstakel\n",
    "\n",
    "## Bonus\n",
    "Ben je op tijd klaar? \n",
    "\n",
    "- Laat de robot obstakels ontwijken\n",
    "- Gebruik de led's om richting aan te geven\n",
    "- Wees creatief!\n",
    "\n",
    "[<< Vorige](./13%20-%20Maqueen.ipynb) [Volgende >>](./15%20-%20Opdracht%204%20Bestuurbare%20auto.ipynb)"
   ]
  },
  {
   "cell_type": "code",
   "execution_count": null,
   "id": "1dc5faae",
   "metadata": {
    "id": "1dc5faae"
   },
   "outputs": [],
   "source": []
  }
 ],
 "metadata": {
  "colab": {
   "collapsed_sections": [],
   "provenance": []
  },
  "kernelspec": {
   "display_name": "Python 3 (ipykernel)",
   "language": "python",
   "name": "python3"
  },
  "language_info": {
   "codemirror_mode": {
    "name": "ipython",
    "version": 3
   },
   "file_extension": ".py",
   "mimetype": "text/x-python",
   "name": "python",
   "nbconvert_exporter": "python",
   "pygments_lexer": "ipython3",
   "version": "3.10.8"
  }
 },
 "nbformat": 4,
 "nbformat_minor": 5
}
