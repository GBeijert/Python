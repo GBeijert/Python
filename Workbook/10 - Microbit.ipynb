{
 "cells": [
  {
   "cell_type": "markdown",
   "id": "80fca8cf",
   "metadata": {
    "id": "80fca8cf"
   },
   "source": [
    "<center><img src='Assets\\chipsoft_logo.svg' width=\"200\"/></center>\n",
    "\n",
    "[<< Vorige](./09%20-%20Opdracht%201%20Holy%20Hand%20Grenade.ipynb) [Volgende >>](./11%20-%20Developmentenvironment.ipynb)\n",
    "\n",
    "# Micro:bit\n",
    "Tijdens deze cursus maken we gebruik van de [Micro:bit](https://microbit.org/) skype\\V2, een ontwikkelbordje met daarin sensoren, leds en knoppen.\n",
    "    \n",
    "> The BBC micro:bit is a pocket-sized computer that introduces you to how software and hardware work together. It has an LED light display, buttons, sensors and many input/output features that, when programmed, let it interact with you and your world.<br /><br />\n",
    ">The new micro:bit with sound adds a built-in microphone and speaker, as well as an extra touch input button and a power button.\n",
    "\n",
    "<img src='Assets\\microbitv2.png'/>\n",
    "\n",
    "## Knoppen\n",
    "\n",
    "De Micro:bit heeft een drietal knoppen die gebruikt kunnen worden om op te reageren. Dit zijn de A, B en de aanraaksensor.\n",
    "\n",
    "<img src='Assets\\button_press.png'/>\n",
    "\n",
    "## Sensoren\n",
    "**Microfoon** <br />\n",
    "Met de microfoon kan je geluid detecteren om zodoende bepaalde acties te triggeren. Hiermee kan je bijvoorbeeld een afbeelding laten zien of een geluid afspelen zodra het geluidsniveau boven een bepaalde grens komt.\n",
    "\n",
    "<img src='Assets\\Microphone.png'/>\n",
    "\n",
    "**Kompas**<br />\n",
    "Met behulp van het kompas aan boord van de Micro:Bit kan het noorden bepaald worden.\n",
    "\n",
    "<img src='Assets\\compass.png'/>\n",
    "\n",
    "**3-assige digitale accelerometer**<br />\n",
    "Met de accelerometer kunnen bewegingen en 'gestures' uitgelezen worden. De accelerometer kan op de x,y en z as uitgelezen worden. Zo kan bijvoorbeeld gekeken worden hoe ver het bordje naar voren of naar achter gedraaid is.\n",
    "\n",
    "<img src='Assets\\accelerometer.png'/>\n",
    "\n",
    "**lichtsensor**<br />\n",
    "Met de lichtsensor kan je uitlezen hoeveel licht er op de Micro:Bit schijnt. Op basis van de lichtsterkte kan er gekozen worden om bepaalde acties wel of niet uit te voeren in de applicatie.\n",
    "\n",
    "<img src='Assets\\light.png'/>\n",
    "\n",
    "## Overig\n",
    "**5x5 LED matrix**<br />\n",
    "Met behulp van 5x5 leds kan er van alles getoond worden, denk hierbij aan afbeeldingen, tekst of custom tekeningen.\n",
    "\n",
    "<img src='Assets\\leds.png'/>\n",
    "\n",
    "**Speaker**<br />\n",
    "Met de speaker kunnen melodieen afgespeeld worden en zelfs zinnen gezegd worden.\n",
    "\n",
    "<img src='Assets\\sound.png' />\n",
    "\n",
    "**Radio**<br />\n",
    "Met de radio kan er gecommuniceerd worden tussen verschillende Micro:bit bordjes. Hiermee kunnen opdrachten gegeven aan andere bordjes, of simpelweg informatie gedeeld worden.\n",
    "\n",
    "<img src='Assets\\radio.png'/>\n",
    "\n",
    "## Uitbreidbaarheid\n",
    "Doordat de Micro:bit een aantal aansluitingen heeft om te communiceren met andere apparaten en accessoires zoals robots en andere sensoren. \n",
    "\n",
    "- 5x Ring Input en Output (I/O) inclusief stroom (PWR), aarde (GRD) en 3x I/O\n",
    "- 20 pin rand connector\n",
    "\n",
    "## API\n",
    "Voor de volledige API omschrijving: https://microbit-micropython.readthedocs.io/en/latest/\n",
    "\n",
    "[<< Vorige](./09%20-%20Opdracht%201%20Holy%20Hand%20Grenade.ipynb) [Volgende >>](./11%20-%20Developmentenvironment.ipynb)"
   ]
  },
  {
   "cell_type": "code",
   "execution_count": null,
   "id": "ea144862",
   "metadata": {},
   "outputs": [],
   "source": []
  }
 ],
 "metadata": {
  "colab": {
   "collapsed_sections": [],
   "provenance": []
  },
  "kernelspec": {
   "display_name": "Python 3 (ipykernel)",
   "language": "python",
   "name": "python3"
  },
  "language_info": {
   "codemirror_mode": {
    "name": "ipython",
    "version": 3
   },
   "file_extension": ".py",
   "mimetype": "text/x-python",
   "name": "python",
   "nbconvert_exporter": "python",
   "pygments_lexer": "ipython3",
   "version": "3.10.8"
  }
 },
 "nbformat": 4,
 "nbformat_minor": 5
}
